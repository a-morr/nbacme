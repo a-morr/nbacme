{
 "cells": [
  {
   "cell_type": "code",
   "execution_count": 20,
   "metadata": {
    "collapsed": true
   },
   "outputs": [],
   "source": [
    "import pandas as pd"
   ]
  },
  {
   "cell_type": "markdown",
   "metadata": {},
   "source": [
    "Our data collection started out first with obtaining this CSV file below, it contains all historical data from the beginning of the NBA until the 2015 regular season. We decided to drop all data from more than 20 years ago, because that is when the current 30 NBA franchises were established and have been a consistent part of the NBA from that time forward. We also dropped some of the more inconsqeuential columns (season or playoffs games) and deleted the is_copy column, which was just duplicated games. Essentially we cleaned out the data we would not be incorporating into our model"
   ]
  },
  {
   "cell_type": "code",
   "execution_count": 9,
   "metadata": {
    "collapsed": false
   },
   "outputs": [
    {
     "data": {
      "text/html": [
       "<div>\n",
       "<table border=\"1\" class=\"dataframe\">\n",
       "  <thead>\n",
       "    <tr style=\"text-align: right;\">\n",
       "      <th></th>\n",
       "      <th>gameorder</th>\n",
       "      <th>game_id</th>\n",
       "      <th>lg_id</th>\n",
       "      <th>_iscopy</th>\n",
       "      <th>year_id</th>\n",
       "      <th>date_game</th>\n",
       "      <th>seasongame</th>\n",
       "      <th>is_playoffs</th>\n",
       "      <th>team_id</th>\n",
       "      <th>fran_id</th>\n",
       "      <th>...</th>\n",
       "      <th>win_equiv</th>\n",
       "      <th>opp_id</th>\n",
       "      <th>opp_fran</th>\n",
       "      <th>opp_pts</th>\n",
       "      <th>opp_elo_i</th>\n",
       "      <th>opp_elo_n</th>\n",
       "      <th>game_location</th>\n",
       "      <th>game_result</th>\n",
       "      <th>forecast</th>\n",
       "      <th>notes</th>\n",
       "    </tr>\n",
       "  </thead>\n",
       "  <tbody>\n",
       "    <tr>\n",
       "      <th>0</th>\n",
       "      <td>1</td>\n",
       "      <td>194611010TRH</td>\n",
       "      <td>NBA</td>\n",
       "      <td>0</td>\n",
       "      <td>1947</td>\n",
       "      <td>11/1/1946</td>\n",
       "      <td>1</td>\n",
       "      <td>0</td>\n",
       "      <td>TRH</td>\n",
       "      <td>Huskies</td>\n",
       "      <td>...</td>\n",
       "      <td>40.294830</td>\n",
       "      <td>NYK</td>\n",
       "      <td>Knicks</td>\n",
       "      <td>68</td>\n",
       "      <td>1300.0000</td>\n",
       "      <td>1306.7233</td>\n",
       "      <td>H</td>\n",
       "      <td>L</td>\n",
       "      <td>0.640065</td>\n",
       "      <td>NaN</td>\n",
       "    </tr>\n",
       "    <tr>\n",
       "      <th>1</th>\n",
       "      <td>1</td>\n",
       "      <td>194611010TRH</td>\n",
       "      <td>NBA</td>\n",
       "      <td>1</td>\n",
       "      <td>1947</td>\n",
       "      <td>11/1/1946</td>\n",
       "      <td>1</td>\n",
       "      <td>0</td>\n",
       "      <td>NYK</td>\n",
       "      <td>Knicks</td>\n",
       "      <td>...</td>\n",
       "      <td>41.705170</td>\n",
       "      <td>TRH</td>\n",
       "      <td>Huskies</td>\n",
       "      <td>66</td>\n",
       "      <td>1300.0000</td>\n",
       "      <td>1293.2767</td>\n",
       "      <td>A</td>\n",
       "      <td>W</td>\n",
       "      <td>0.359935</td>\n",
       "      <td>NaN</td>\n",
       "    </tr>\n",
       "    <tr>\n",
       "      <th>2</th>\n",
       "      <td>2</td>\n",
       "      <td>194611020CHS</td>\n",
       "      <td>NBA</td>\n",
       "      <td>0</td>\n",
       "      <td>1947</td>\n",
       "      <td>11/2/1946</td>\n",
       "      <td>1</td>\n",
       "      <td>0</td>\n",
       "      <td>CHS</td>\n",
       "      <td>Stags</td>\n",
       "      <td>...</td>\n",
       "      <td>42.012257</td>\n",
       "      <td>NYK</td>\n",
       "      <td>Knicks</td>\n",
       "      <td>47</td>\n",
       "      <td>1306.7233</td>\n",
       "      <td>1297.0712</td>\n",
       "      <td>H</td>\n",
       "      <td>W</td>\n",
       "      <td>0.631101</td>\n",
       "      <td>NaN</td>\n",
       "    </tr>\n",
       "    <tr>\n",
       "      <th>3</th>\n",
       "      <td>2</td>\n",
       "      <td>194611020CHS</td>\n",
       "      <td>NBA</td>\n",
       "      <td>1</td>\n",
       "      <td>1947</td>\n",
       "      <td>11/2/1946</td>\n",
       "      <td>2</td>\n",
       "      <td>0</td>\n",
       "      <td>NYK</td>\n",
       "      <td>Knicks</td>\n",
       "      <td>...</td>\n",
       "      <td>40.692783</td>\n",
       "      <td>CHS</td>\n",
       "      <td>Stags</td>\n",
       "      <td>63</td>\n",
       "      <td>1300.0000</td>\n",
       "      <td>1309.6521</td>\n",
       "      <td>A</td>\n",
       "      <td>L</td>\n",
       "      <td>0.368899</td>\n",
       "      <td>NaN</td>\n",
       "    </tr>\n",
       "    <tr>\n",
       "      <th>4</th>\n",
       "      <td>3</td>\n",
       "      <td>194611020DTF</td>\n",
       "      <td>NBA</td>\n",
       "      <td>0</td>\n",
       "      <td>1947</td>\n",
       "      <td>11/2/1946</td>\n",
       "      <td>1</td>\n",
       "      <td>0</td>\n",
       "      <td>DTF</td>\n",
       "      <td>Falcons</td>\n",
       "      <td>...</td>\n",
       "      <td>38.864048</td>\n",
       "      <td>WSC</td>\n",
       "      <td>Capitols</td>\n",
       "      <td>50</td>\n",
       "      <td>1300.0000</td>\n",
       "      <td>1320.3811</td>\n",
       "      <td>H</td>\n",
       "      <td>L</td>\n",
       "      <td>0.640065</td>\n",
       "      <td>NaN</td>\n",
       "    </tr>\n",
       "  </tbody>\n",
       "</table>\n",
       "<p>5 rows × 23 columns</p>\n",
       "</div>"
      ],
      "text/plain": [
       "   gameorder       game_id lg_id  _iscopy  year_id  date_game  seasongame  \\\n",
       "0          1  194611010TRH   NBA        0     1947  11/1/1946           1   \n",
       "1          1  194611010TRH   NBA        1     1947  11/1/1946           1   \n",
       "2          2  194611020CHS   NBA        0     1947  11/2/1946           1   \n",
       "3          2  194611020CHS   NBA        1     1947  11/2/1946           2   \n",
       "4          3  194611020DTF   NBA        0     1947  11/2/1946           1   \n",
       "\n",
       "   is_playoffs team_id  fran_id  ...   win_equiv  opp_id  opp_fran  opp_pts  \\\n",
       "0            0     TRH  Huskies  ...   40.294830     NYK    Knicks       68   \n",
       "1            0     NYK   Knicks  ...   41.705170     TRH   Huskies       66   \n",
       "2            0     CHS    Stags  ...   42.012257     NYK    Knicks       47   \n",
       "3            0     NYK   Knicks  ...   40.692783     CHS     Stags       63   \n",
       "4            0     DTF  Falcons  ...   38.864048     WSC  Capitols       50   \n",
       "\n",
       "   opp_elo_i  opp_elo_n  game_location  game_result  forecast notes  \n",
       "0  1300.0000  1306.7233              H            L  0.640065   NaN  \n",
       "1  1300.0000  1293.2767              A            W  0.359935   NaN  \n",
       "2  1306.7233  1297.0712              H            W  0.631101   NaN  \n",
       "3  1300.0000  1309.6521              A            L  0.368899   NaN  \n",
       "4  1300.0000  1320.3811              H            L  0.640065   NaN  \n",
       "\n",
       "[5 rows x 23 columns]"
      ]
     },
     "execution_count": 9,
     "metadata": {},
     "output_type": "execute_result"
    }
   ],
   "source": [
    "elo = pd.read_csv('elo_1946-2015.csv')\n",
    "elo.head()"
   ]
  },
  {
   "cell_type": "markdown",
   "metadata": {},
   "source": [
    "Our model was missing about a year and a half of data points that we needed, so we filled in the games that were missing between 2015 and the present day with this data set. It was optained by scraping NBA reference. This data set needed to be cleaned so that the names for the franchises across our data sets were the same. For example, some sources list the Portland Trailblazers as the Portland Trail Blazers or just the Portland Blazers."
   ]
  },
  {
   "cell_type": "code",
   "execution_count": 12,
   "metadata": {
    "collapsed": false
   },
   "outputs": [
    {
     "data": {
      "text/html": [
       "<div>\n",
       "<table border=\"1\" class=\"dataframe\">\n",
       "  <thead>\n",
       "    <tr style=\"text-align: right;\">\n",
       "      <th></th>\n",
       "      <th>Date</th>\n",
       "      <th>Start (ET)</th>\n",
       "      <th>Visitor/Neutral</th>\n",
       "      <th>PTS</th>\n",
       "      <th>Home/Neutral</th>\n",
       "      <th>PTS.1</th>\n",
       "    </tr>\n",
       "  </thead>\n",
       "  <tbody>\n",
       "    <tr>\n",
       "      <th>0</th>\n",
       "      <td>Tue, Oct 27, 2015</td>\n",
       "      <td>8:00 pm</td>\n",
       "      <td>Detroit Pistons</td>\n",
       "      <td>106</td>\n",
       "      <td>Atlanta Hawks</td>\n",
       "      <td>94</td>\n",
       "    </tr>\n",
       "    <tr>\n",
       "      <th>1</th>\n",
       "      <td>Tue, Oct 27, 2015</td>\n",
       "      <td>8:00 pm</td>\n",
       "      <td>Cleveland Cavaliers</td>\n",
       "      <td>95</td>\n",
       "      <td>Chicago Bulls</td>\n",
       "      <td>97</td>\n",
       "    </tr>\n",
       "    <tr>\n",
       "      <th>2</th>\n",
       "      <td>Tue, Oct 27, 2015</td>\n",
       "      <td>10:30 pm</td>\n",
       "      <td>New Orleans Pelicans</td>\n",
       "      <td>95</td>\n",
       "      <td>Golden State Warriors</td>\n",
       "      <td>111</td>\n",
       "    </tr>\n",
       "    <tr>\n",
       "      <th>3</th>\n",
       "      <td>Wed, Oct 28, 2015</td>\n",
       "      <td>7:30 pm</td>\n",
       "      <td>Philadelphia 76ers</td>\n",
       "      <td>95</td>\n",
       "      <td>Boston Celtics</td>\n",
       "      <td>112</td>\n",
       "    </tr>\n",
       "    <tr>\n",
       "      <th>4</th>\n",
       "      <td>Wed, Oct 28, 2015</td>\n",
       "      <td>7:30 pm</td>\n",
       "      <td>Chicago Bulls</td>\n",
       "      <td>115</td>\n",
       "      <td>Brooklyn Nets</td>\n",
       "      <td>100</td>\n",
       "    </tr>\n",
       "  </tbody>\n",
       "</table>\n",
       "</div>"
      ],
      "text/plain": [
       "                Date Start (ET)       Visitor/Neutral  PTS  \\\n",
       "0  Tue, Oct 27, 2015    8:00 pm       Detroit Pistons  106   \n",
       "1  Tue, Oct 27, 2015    8:00 pm   Cleveland Cavaliers   95   \n",
       "2  Tue, Oct 27, 2015   10:30 pm  New Orleans Pelicans   95   \n",
       "3  Wed, Oct 28, 2015    7:30 pm    Philadelphia 76ers   95   \n",
       "4  Wed, Oct 28, 2015    7:30 pm         Chicago Bulls  115   \n",
       "\n",
       "            Home/Neutral PTS.1  \n",
       "0          Atlanta Hawks    94  \n",
       "1          Chicago Bulls    97  \n",
       "2  Golden State Warriors   111  \n",
       "3         Boston Celtics   112  \n",
       "4          Brooklyn Nets   100  "
      ]
     },
     "execution_count": 12,
     "metadata": {},
     "output_type": "execute_result"
    }
   ],
   "source": [
    "recent_data = pd.read_csv('recent_data.csv')\n",
    "recent_data.head()"
   ]
  },
  {
   "cell_type": "markdown",
   "metadata": {},
   "source": [
    "With the combination of the two previous data sets, we built the historical data set. This contains all the games in the years that we are conisidering up until the present date. This is the data that we use to calculate our ELO ratings."
   ]
  },
  {
   "cell_type": "code",
   "execution_count": 19,
   "metadata": {
    "collapsed": false
   },
   "outputs": [
    {
     "data": {
      "text/html": [
       "<div>\n",
       "<table border=\"1\" class=\"dataframe\">\n",
       "  <thead>\n",
       "    <tr style=\"text-align: right;\">\n",
       "      <th></th>\n",
       "      <th>fran_id</th>\n",
       "      <th>pts</th>\n",
       "      <th>opp_fran</th>\n",
       "      <th>opp_pts</th>\n",
       "      <th>game_location</th>\n",
       "      <th>date</th>\n",
       "    </tr>\n",
       "  </thead>\n",
       "  <tbody>\n",
       "    <tr>\n",
       "      <th>0</th>\n",
       "      <td>Pistons</td>\n",
       "      <td>106</td>\n",
       "      <td>Hawks</td>\n",
       "      <td>94</td>\n",
       "      <td>A</td>\n",
       "      <td>2015-10-27</td>\n",
       "    </tr>\n",
       "    <tr>\n",
       "      <th>1</th>\n",
       "      <td>Cavaliers</td>\n",
       "      <td>95</td>\n",
       "      <td>Bulls</td>\n",
       "      <td>97</td>\n",
       "      <td>A</td>\n",
       "      <td>2015-10-27</td>\n",
       "    </tr>\n",
       "    <tr>\n",
       "      <th>2</th>\n",
       "      <td>Pelicans</td>\n",
       "      <td>95</td>\n",
       "      <td>Warriors</td>\n",
       "      <td>111</td>\n",
       "      <td>A</td>\n",
       "      <td>2015-10-27</td>\n",
       "    </tr>\n",
       "    <tr>\n",
       "      <th>3</th>\n",
       "      <td>Sixers</td>\n",
       "      <td>95</td>\n",
       "      <td>Celtics</td>\n",
       "      <td>112</td>\n",
       "      <td>A</td>\n",
       "      <td>2015-10-28</td>\n",
       "    </tr>\n",
       "    <tr>\n",
       "      <th>4</th>\n",
       "      <td>Bulls</td>\n",
       "      <td>115</td>\n",
       "      <td>Nets</td>\n",
       "      <td>100</td>\n",
       "      <td>A</td>\n",
       "      <td>2015-10-28</td>\n",
       "    </tr>\n",
       "  </tbody>\n",
       "</table>\n",
       "</div>"
      ],
      "text/plain": [
       "     fran_id  pts  opp_fran  opp_pts game_location        date\n",
       "0    Pistons  106     Hawks       94             A  2015-10-27\n",
       "1  Cavaliers   95     Bulls       97             A  2015-10-27\n",
       "2   Pelicans   95  Warriors      111             A  2015-10-27\n",
       "3     Sixers   95   Celtics      112             A  2015-10-28\n",
       "4      Bulls  115      Nets      100             A  2015-10-28"
      ]
     },
     "execution_count": 19,
     "metadata": {},
     "output_type": "execute_result"
    }
   ],
   "source": [
    "historical_data = pd.read_csv('historical_data.csv')\n",
    "historical_data.head()"
   ]
  },
  {
   "cell_type": "markdown",
   "metadata": {},
   "source": [
    "Another large portion of our data set that was missing was the altitudes and latitude and longitude locations of each team. We use this information as one of the features in our model and it had to be inserted by hand. "
   ]
  },
  {
   "cell_type": "code",
   "execution_count": 25,
   "metadata": {
    "collapsed": false
   },
   "outputs": [
    {
     "data": {
      "text/html": [
       "<div>\n",
       "<table border=\"1\" class=\"dataframe\">\n",
       "  <thead>\n",
       "    <tr style=\"text-align: right;\">\n",
       "      <th></th>\n",
       "      <th>fran_id</th>\n",
       "      <th>altitude</th>\n",
       "      <th>lat</th>\n",
       "      <th>lon</th>\n",
       "    </tr>\n",
       "  </thead>\n",
       "  <tbody>\n",
       "    <tr>\n",
       "      <th>0</th>\n",
       "      <td>Bucks</td>\n",
       "      <td>617</td>\n",
       "      <td>43.038902</td>\n",
       "      <td>-87.906471</td>\n",
       "    </tr>\n",
       "    <tr>\n",
       "      <th>1</th>\n",
       "      <td>Bulls</td>\n",
       "      <td>594</td>\n",
       "      <td>41.881832</td>\n",
       "      <td>-87.623177</td>\n",
       "    </tr>\n",
       "    <tr>\n",
       "      <th>2</th>\n",
       "      <td>Cavaliers</td>\n",
       "      <td>653</td>\n",
       "      <td>41.505493</td>\n",
       "      <td>-81.681290</td>\n",
       "    </tr>\n",
       "    <tr>\n",
       "      <th>3</th>\n",
       "      <td>Celtics</td>\n",
       "      <td>141</td>\n",
       "      <td>42.361145</td>\n",
       "      <td>-71.057083</td>\n",
       "    </tr>\n",
       "    <tr>\n",
       "      <th>4</th>\n",
       "      <td>Clippers</td>\n",
       "      <td>233</td>\n",
       "      <td>34.052235</td>\n",
       "      <td>-118.243683</td>\n",
       "    </tr>\n",
       "  </tbody>\n",
       "</table>\n",
       "</div>"
      ],
      "text/plain": [
       "     fran_id altitude        lat         lon\n",
       "0      Bucks      617  43.038902  -87.906471\n",
       "1      Bulls      594  41.881832  -87.623177\n",
       "2  Cavaliers      653  41.505493  -81.681290\n",
       "3    Celtics      141  42.361145  -71.057083\n",
       "4   Clippers      233  34.052235 -118.243683"
      ]
     },
     "execution_count": 25,
     "metadata": {},
     "output_type": "execute_result"
    }
   ],
   "source": [
    "teamInfo = pd.read_csv('teamInfo.csv', delimiter='\\t')\n",
    "teamInfo.head()"
   ]
  },
  {
   "cell_type": "markdown",
   "metadata": {},
   "source": [
    "The projected win loss data set is where we store our projected wins and losses for each team and the current ELO ranking of that team. This will be updated daily and displayed on our website."
   ]
  },
  {
   "cell_type": "code",
   "execution_count": 13,
   "metadata": {
    "collapsed": false
   },
   "outputs": [
    {
     "data": {
      "text/html": [
       "<div>\n",
       "<table border=\"1\" class=\"dataframe\">\n",
       "  <thead>\n",
       "    <tr style=\"text-align: right;\">\n",
       "      <th></th>\n",
       "      <th>Projected L</th>\n",
       "      <th>Projected W</th>\n",
       "      <th>elo</th>\n",
       "      <th>fran_id</th>\n",
       "    </tr>\n",
       "  </thead>\n",
       "  <tbody>\n",
       "    <tr>\n",
       "      <th>0</th>\n",
       "      <td>15.0</td>\n",
       "      <td>67.0</td>\n",
       "      <td>1770.075218</td>\n",
       "      <td>Warriors</td>\n",
       "    </tr>\n",
       "    <tr>\n",
       "      <th>1</th>\n",
       "      <td>19.0</td>\n",
       "      <td>63.0</td>\n",
       "      <td>1719.168956</td>\n",
       "      <td>Spurs</td>\n",
       "    </tr>\n",
       "    <tr>\n",
       "      <th>2</th>\n",
       "      <td>26.0</td>\n",
       "      <td>56.0</td>\n",
       "      <td>1645.724021</td>\n",
       "      <td>Cavaliers</td>\n",
       "    </tr>\n",
       "    <tr>\n",
       "      <th>3</th>\n",
       "      <td>26.0</td>\n",
       "      <td>56.0</td>\n",
       "      <td>1618.636284</td>\n",
       "      <td>Rockets</td>\n",
       "    </tr>\n",
       "    <tr>\n",
       "      <th>4</th>\n",
       "      <td>31.0</td>\n",
       "      <td>51.0</td>\n",
       "      <td>1598.583197</td>\n",
       "      <td>Wizards</td>\n",
       "    </tr>\n",
       "  </tbody>\n",
       "</table>\n",
       "</div>"
      ],
      "text/plain": [
       "   Projected L  Projected W          elo    fran_id\n",
       "0         15.0         67.0  1770.075218   Warriors\n",
       "1         19.0         63.0  1719.168956      Spurs\n",
       "2         26.0         56.0  1645.724021  Cavaliers\n",
       "3         26.0         56.0  1618.636284    Rockets\n",
       "4         31.0         51.0  1598.583197    Wizards"
      ]
     },
     "execution_count": 13,
     "metadata": {},
     "output_type": "execute_result"
    }
   ],
   "source": [
    "ProjectedWL = pd.read_csv('ProjectedWL.csv')\n",
    "ProjectedWL.head()"
   ]
  },
  {
   "cell_type": "markdown",
   "metadata": {},
   "source": [
    "The tomorrow data set shows the games that will be played tomorrow, and the win/loss probabilty for each teams in the matchup. This will be updated daily and displayed on our website."
   ]
  },
  {
   "cell_type": "code",
   "execution_count": 16,
   "metadata": {
    "collapsed": false
   },
   "outputs": [
    {
     "data": {
      "text/html": [
       "<div>\n",
       "<table border=\"1\" class=\"dataframe\">\n",
       "  <thead>\n",
       "    <tr style=\"text-align: right;\">\n",
       "      <th></th>\n",
       "      <th>fran_id</th>\n",
       "      <th>opp_fran</th>\n",
       "      <th>prob</th>\n",
       "      <th>opp_prob</th>\n",
       "    </tr>\n",
       "  </thead>\n",
       "  <tbody>\n",
       "    <tr>\n",
       "      <th>0</th>\n",
       "      <td>Warriors</td>\n",
       "      <td>Hawks</td>\n",
       "      <td>0.647281</td>\n",
       "      <td>0.352719</td>\n",
       "    </tr>\n",
       "    <tr>\n",
       "      <th>1</th>\n",
       "      <td>Pacers</td>\n",
       "      <td>Hornets</td>\n",
       "      <td>0.523157</td>\n",
       "      <td>0.476843</td>\n",
       "    </tr>\n",
       "    <tr>\n",
       "      <th>2</th>\n",
       "      <td>Heat</td>\n",
       "      <td>Cavaliers</td>\n",
       "      <td>0.148315</td>\n",
       "      <td>0.851685</td>\n",
       "    </tr>\n",
       "    <tr>\n",
       "      <th>3</th>\n",
       "      <td>Kings</td>\n",
       "      <td>Nuggets</td>\n",
       "      <td>0.331493</td>\n",
       "      <td>0.668507</td>\n",
       "    </tr>\n",
       "    <tr>\n",
       "      <th>4</th>\n",
       "      <td>Bulls</td>\n",
       "      <td>Pistons</td>\n",
       "      <td>0.563439</td>\n",
       "      <td>0.436561</td>\n",
       "    </tr>\n",
       "  </tbody>\n",
       "</table>\n",
       "</div>"
      ],
      "text/plain": [
       "    fran_id   opp_fran      prob  opp_prob\n",
       "0  Warriors      Hawks  0.647281  0.352719\n",
       "1    Pacers    Hornets  0.523157  0.476843\n",
       "2      Heat  Cavaliers  0.148315  0.851685\n",
       "3     Kings    Nuggets  0.331493  0.668507\n",
       "4     Bulls    Pistons  0.563439  0.436561"
      ]
     },
     "execution_count": 16,
     "metadata": {},
     "output_type": "execute_result"
    }
   ],
   "source": [
    "tomorrow = pd.read_csv('tomorrow.csv')\n",
    "tomorrow.head()"
   ]
  },
  {
   "cell_type": "markdown",
   "metadata": {},
   "source": [
    "This data set holds all the information for the upcoming games left in the 2017 season. "
   ]
  },
  {
   "cell_type": "code",
   "execution_count": 23,
   "metadata": {
    "collapsed": false
   },
   "outputs": [
    {
     "data": {
      "text/html": [
       "<div>\n",
       "<table border=\"1\" class=\"dataframe\">\n",
       "  <thead>\n",
       "    <tr style=\"text-align: right;\">\n",
       "      <th></th>\n",
       "      <th>fran_id</th>\n",
       "      <th>pts</th>\n",
       "      <th>opp_fran</th>\n",
       "      <th>opp_pts</th>\n",
       "      <th>game_location</th>\n",
       "      <th>date</th>\n",
       "    </tr>\n",
       "  </thead>\n",
       "  <tbody>\n",
       "    <tr>\n",
       "      <th>0</th>\n",
       "      <td>Raptors</td>\n",
       "      <td>NaN</td>\n",
       "      <td>Hawks</td>\n",
       "      <td>NaN</td>\n",
       "      <td>A</td>\n",
       "      <td>2017-03-10</td>\n",
       "    </tr>\n",
       "    <tr>\n",
       "      <th>1</th>\n",
       "      <td>Rockets</td>\n",
       "      <td>NaN</td>\n",
       "      <td>Bulls</td>\n",
       "      <td>NaN</td>\n",
       "      <td>A</td>\n",
       "      <td>2017-03-10</td>\n",
       "    </tr>\n",
       "    <tr>\n",
       "      <th>2</th>\n",
       "      <td>Magic</td>\n",
       "      <td>NaN</td>\n",
       "      <td>Hornets</td>\n",
       "      <td>NaN</td>\n",
       "      <td>A</td>\n",
       "      <td>2017-03-10</td>\n",
       "    </tr>\n",
       "    <tr>\n",
       "      <th>3</th>\n",
       "      <td>Nets</td>\n",
       "      <td>NaN</td>\n",
       "      <td>Mavericks</td>\n",
       "      <td>NaN</td>\n",
       "      <td>A</td>\n",
       "      <td>2017-03-10</td>\n",
       "    </tr>\n",
       "    <tr>\n",
       "      <th>4</th>\n",
       "      <td>Celtics</td>\n",
       "      <td>NaN</td>\n",
       "      <td>Nuggets</td>\n",
       "      <td>NaN</td>\n",
       "      <td>A</td>\n",
       "      <td>2017-03-10</td>\n",
       "    </tr>\n",
       "  </tbody>\n",
       "</table>\n",
       "</div>"
      ],
      "text/plain": [
       "   fran_id  pts   opp_fran  opp_pts game_location        date\n",
       "0  Raptors  NaN      Hawks      NaN             A  2017-03-10\n",
       "1  Rockets  NaN      Bulls      NaN             A  2017-03-10\n",
       "2    Magic  NaN    Hornets      NaN             A  2017-03-10\n",
       "3     Nets  NaN  Mavericks      NaN             A  2017-03-10\n",
       "4  Celtics  NaN    Nuggets      NaN             A  2017-03-10"
      ]
     },
     "execution_count": 23,
     "metadata": {},
     "output_type": "execute_result"
    }
   ],
   "source": [
    "upcoming_games = pd.read_csv('upcoming_games.csv')\n",
    "upcoming_games.head()"
   ]
  },
  {
   "cell_type": "code",
   "execution_count": null,
   "metadata": {
    "collapsed": true
   },
   "outputs": [],
   "source": []
  }
 ],
 "metadata": {
  "kernelspec": {
   "display_name": "Python [conda root]",
   "language": "python",
   "name": "conda-root-py"
  },
  "language_info": {
   "codemirror_mode": {
    "name": "ipython",
    "version": 2
   },
   "file_extension": ".py",
   "mimetype": "text/x-python",
   "name": "python",
   "nbconvert_exporter": "python",
   "pygments_lexer": "ipython2",
   "version": "2.7.12"
  }
 },
 "nbformat": 4,
 "nbformat_minor": 1
}
