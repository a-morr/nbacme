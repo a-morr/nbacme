{
 "cells": [
  {
   "cell_type": "code",
   "execution_count": 54,
   "metadata": {
    "collapsed": false
   },
   "outputs": [],
   "source": [
    "import numpy as np\n",
    "import pandas as pd\n",
    "import datetime as dt\n",
    "import time\n",
    "from sklearn.model_selection import train_test_split\n",
    "from __future__ import division"
   ]
  },
  {
   "cell_type": "markdown",
   "metadata": {},
   "source": [
    "# Get the data"
   ]
  },
  {
   "cell_type": "code",
   "execution_count": 55,
   "metadata": {
    "collapsed": false
   },
   "outputs": [],
   "source": [
    "filename = 'Algorithms_Data.csv'\n",
    "data = pd.read_csv(filename)\n",
    "data = data[-15000:]  # Training on more than this doesn't seem to improve results, but takes longer\n",
    "targets = data['Win']\n",
    "data = data[['fran_elo', 'opp_elo', 'RollAvg_A_5_pts', 'RollAvg_B_5_pts', 'RollAvg_A_5_opp_pts', 'RollAvg_B_5_opp_pts', 'Days_Since_Last']]"
   ]
  },
  {
   "cell_type": "code",
   "execution_count": 56,
   "metadata": {
    "collapsed": false
   },
   "outputs": [
    {
     "data": {
      "text/html": [
       "<div>\n",
       "<table border=\"1\" class=\"dataframe\">\n",
       "  <thead>\n",
       "    <tr style=\"text-align: right;\">\n",
       "      <th></th>\n",
       "      <th>fran_elo</th>\n",
       "      <th>opp_elo</th>\n",
       "      <th>RollAvg_A_5_pts</th>\n",
       "      <th>RollAvg_B_5_pts</th>\n",
       "      <th>RollAvg_A_5_opp_pts</th>\n",
       "      <th>RollAvg_B_5_opp_pts</th>\n",
       "      <th>Days_Since_Last</th>\n",
       "      <th>Win</th>\n",
       "    </tr>\n",
       "  </thead>\n",
       "  <tbody>\n",
       "    <tr>\n",
       "      <th>32530</th>\n",
       "      <td>1489.768214</td>\n",
       "      <td>1684.042297</td>\n",
       "      <td>91.8</td>\n",
       "      <td>95.2</td>\n",
       "      <td>96.2</td>\n",
       "      <td>86.8</td>\n",
       "      <td>1.0</td>\n",
       "      <td>False</td>\n",
       "    </tr>\n",
       "    <tr>\n",
       "      <th>32531</th>\n",
       "      <td>1569.508971</td>\n",
       "      <td>1558.067109</td>\n",
       "      <td>83.8</td>\n",
       "      <td>93.2</td>\n",
       "      <td>77.4</td>\n",
       "      <td>84.4</td>\n",
       "      <td>1.0</td>\n",
       "      <td>False</td>\n",
       "    </tr>\n",
       "    <tr>\n",
       "      <th>32532</th>\n",
       "      <td>1687.615767</td>\n",
       "      <td>1528.192875</td>\n",
       "      <td>107.2</td>\n",
       "      <td>98.2</td>\n",
       "      <td>94.2</td>\n",
       "      <td>92.2</td>\n",
       "      <td>1.0</td>\n",
       "      <td>False</td>\n",
       "    </tr>\n",
       "    <tr>\n",
       "      <th>32533</th>\n",
       "      <td>1509.910406</td>\n",
       "      <td>1448.525491</td>\n",
       "      <td>101.2</td>\n",
       "      <td>100.0</td>\n",
       "      <td>106.8</td>\n",
       "      <td>97.6</td>\n",
       "      <td>1.0</td>\n",
       "      <td>False</td>\n",
       "    </tr>\n",
       "    <tr>\n",
       "      <th>32534</th>\n",
       "      <td>1456.563819</td>\n",
       "      <td>1571.171564</td>\n",
       "      <td>97.4</td>\n",
       "      <td>93.6</td>\n",
       "      <td>91.2</td>\n",
       "      <td>83.6</td>\n",
       "      <td>3.0</td>\n",
       "      <td>False</td>\n",
       "    </tr>\n",
       "  </tbody>\n",
       "</table>\n",
       "</div>"
      ],
      "text/plain": [
       "          fran_elo      opp_elo  RollAvg_A_5_pts  RollAvg_B_5_pts  \\\n",
       "32530  1489.768214  1684.042297             91.8             95.2   \n",
       "32531  1569.508971  1558.067109             83.8             93.2   \n",
       "32532  1687.615767  1528.192875            107.2             98.2   \n",
       "32533  1509.910406  1448.525491            101.2            100.0   \n",
       "32534  1456.563819  1571.171564             97.4             93.6   \n",
       "\n",
       "       RollAvg_A_5_opp_pts  RollAvg_B_5_opp_pts  Days_Since_Last    Win  \n",
       "32530                 96.2                 86.8              1.0  False  \n",
       "32531                 77.4                 84.4              1.0  False  \n",
       "32532                 94.2                 92.2              1.0  False  \n",
       "32533                106.8                 97.6              1.0  False  \n",
       "32534                 91.2                 83.6              3.0  False  "
      ]
     },
     "execution_count": 56,
     "metadata": {},
     "output_type": "execute_result"
    }
   ],
   "source": [
    "pd.concat([data.head(), targets.head()], axis=1)"
   ]
  },
  {
   "cell_type": "markdown",
   "metadata": {
    "collapsed": false
   },
   "source": [
    "The above table is a sample of the data we will be using in order to predict whether the home team will win an NBA basketball game. Each row represents one match up between two basketball teams. Team A is the away team, team B is the home team.  Note a value of False in the Win column implies that team B (the home team) won.\n",
    "\n",
    "The ELO rating system is a method for calculating the relative skill levels of players in two-player games such as chess. We have adapted this system in order to measure skill levels of different NBA teams based on their recent performance.  We computed the ELO ratings for each team over the history of our dataset, and we use this as a feature.\n",
    "\n",
    "A_elo: The ELO ranking for the away team (A) at the time this game was played.\n",
    "\n",
    "B_elo: The ELO ranking for the home team (B) at the time this game was played.\n",
    "\n",
    "RollAvg_A_5_pts: For the away team, the average points this specific team has scored in their last 5 games.\n",
    "\n",
    "RollAvg_B_5_pts: For the home team, the average points this specific team has scored in their last 5 games.\n",
    "\n",
    "RollAvg_A_5_opp_pts: For the home team, the average points this specific team has allowed in their last 5 games.\n",
    "\n",
    "RollAvg_B_5_opp_pts: For the away team, the average points this specific team has allowed in their last 5 games.\n",
    "\n",
    "Days_Since_Last: Number of days since the away team last played a game.\n",
    "\n",
    "For more information on the ELO scores, see our Machine Learning page."
   ]
  },
  {
   "cell_type": "code",
   "execution_count": 57,
   "metadata": {
    "collapsed": false
   },
   "outputs": [],
   "source": [
    "def runAlgorithm(model, trials=10,):\n",
    "    \"\"\" Run a given machine learning algorithm on globally defined data.\n",
    "       Splits data randomly into test and training sets.\n",
    "       Returns the average time and accuracy.\n",
    "   \n",
    "   :param model: A sklearn model initialized with parameters.\n",
    "   :param trials: Number of trials to run.  Defaults to 10.\n",
    "   \"\"\"\n",
    "   \n",
    "    t1 = []\n",
    "    t2 = []\n",
    "    preds =[]\n",
    "    for t in range(trials):\n",
    "        X_train, X_test, y_train, y_test = train_test_split(data, targets, test_size=.2)\n",
    "        t1.append(time.time())\n",
    "\n",
    "        model.fit(X_train, y_train)\n",
    "        preds.append(np.mean((model.predict(X_test)>.5) == y_test))\n",
    "        t2.append(time.time())\n",
    "\n",
    "    return (np.mean(preds),np.mean(np.array(t2)-np.array(t1))),preds\n",
    "\n",
    "\n",
    "import matplotlib.pyplot as plt\n",
    "\n",
    "def plotDist(results,bins=25):\n",
    "    plt.hist(results, bins=bins)\n",
    "    plt.show()"
   ]
  },
  {
   "cell_type": "markdown",
   "metadata": {},
   "source": [
    "# Application of ML algorithms\n",
    "\n",
    "## Baseline\n",
    "Guess that the home team wins every game.  If a method doesn't do better than this, it isn't learning much."
   ]
  },
  {
   "cell_type": "code",
   "execution_count": 78,
   "metadata": {
    "collapsed": false
   },
   "outputs": [
    {
     "name": "stdout",
     "output_type": "stream",
     "text": [
      "Accuracy: 0.5978\n",
      "Time: 0.000546193122864\n"
     ]
    }
   ],
   "source": [
    "t1 = []\n",
    "t2 = []\n",
    "preds = []\n",
    "for t in range(10):\n",
    "    X_train, X_test, y_train, y_test = train_test_split(data, targets, test_size=.2)\n",
    "    t1.append(time.time())\n",
    "\n",
    "    preds.append((np.zeros(len(y_test)) == y_test).mean())\n",
    "    t2.append(time.time())\n",
    "\n",
    "baseline_ = (np.mean(preds), np.mean(np.array(t2)-np.array(t1))), preds\n",
    "print 'Accuracy: {}\\nTime: {}'.format(*baseline_[0])"
   ]
  },
  {
   "cell_type": "markdown",
   "metadata": {},
   "source": [
    "## SVM"
   ]
  },
  {
   "cell_type": "code",
   "execution_count": 59,
   "metadata": {
    "collapsed": false
   },
   "outputs": [
    {
     "name": "stdout",
     "output_type": "stream",
     "text": [
      "Accuracy: 0.661773333333\n",
      "Time: 4.61604221821\n"
     ]
    },
    {
     "data": {
      "image/png": "[encoded data removed]",
      "text/plain": [
       "<matplotlib.figure.Figure at 0x123fa2690>"
      ]
     },
     "metadata": {},
     "output_type": "display_data"
    }
   ],
   "source": [
    "from sklearn import svm\n",
    "from sklearn import preprocessing\n",
    "\n",
    "accuracy = []\n",
    "times = []\n",
    "for i in xrange(50):\n",
    "    X_train, X_test, y_train, y_test = train_test_split(data, targets, test_size=.2)\n",
    "    X = preprocessing.scale(X_train)\n",
    "    s = time.time()\n",
    "    SVM_model = svm.SVC(C=10**-5, kernel='poly', coef0=0, gamma=10**-2).fit(X, y_train)\n",
    "    preds = SVM_model.predict(X_test)\n",
    "    prob = np.sum(preds == y_test)/len(y_test)\n",
    "    times.append(time.time() - s)\n",
    "    accuracy.append(prob)\n",
    "\n",
    "svm_r = (np.mean(accuracy), np.mean(times)), accuracy\n",
    "print 'Accuracy: {}\\nTime: {}'.format(*svm_r[0])\n"
   ]
  },
  {
   "cell_type": "code",
   "execution_count": null,
   "metadata": {
    "collapsed": true
   },
   "outputs": [],
   "source": [
    "plotDist(svm_r[1],5)"
   ]
  },
  {
   "cell_type": "markdown",
   "metadata": {},
   "source": [
    "## Logistic Regression"
   ]
  },
  {
   "cell_type": "code",
   "execution_count": 60,
   "metadata": {
    "collapsed": false
   },
   "outputs": [
    {
     "name": "stdout",
     "output_type": "stream",
     "text": [
      "Accuracy: 0.759353333333\n",
      "Time: 0.0377923526764\n"
     ]
    },
    {
     "data": {
      "image/png": "[encoded data removed]",
      "text/plain": [
       "<matplotlib.figure.Figure at 0x1259c1290>"
      ]
     },
     "metadata": {},
     "output_type": "display_data"
    }
   ],
   "source": [
    "from sklearn import linear_model as lm\n",
    "\n",
    "lam = 10**2\n",
    "\n",
    "model = lm.LogisticRegression(C=np.abs(1/lam))\n",
    "log_reg = runAlgorithm(model, trials=1000)\n",
    "print 'Accuracy: {}\\nTime: {}'.format(*log_reg[0])\n",
    "plotDist(log_reg[1],20)"
   ]
  },
  {
   "cell_type": "markdown",
   "metadata": {},
   "source": [
    "## Ridge Regression "
   ]
  },
  {
   "cell_type": "code",
   "execution_count": 61,
   "metadata": {
    "collapsed": false
   },
   "outputs": [
    {
     "name": "stdout",
     "output_type": "stream",
     "text": [
      "Accuracy: 0.759165666667\n",
      "Time: 0.0432551960945\n"
     ]
    },
    {
     "data": {
      "image/png": "[encoded data removed]",
      "text/plain": [
       "<matplotlib.figure.Figure at 0x125b1cc50>"
      ]
     },
     "metadata": {},
     "output_type": "display_data"
    }
   ],
   "source": [
    "from sklearn.linear_model import Ridge as ri\n",
    "\n",
    "skRidge = ri()\n",
    "rid_reg = runAlgorithm(model,trials = 1000)\n",
    "print 'Accuracy: {}\\nTime: {}'.format(*rid_reg[0])\n",
    "plotDist(rid_reg[1], 20)"
   ]
  },
  {
   "cell_type": "markdown",
   "metadata": {},
   "source": [
    "## Linear Discriminant Analysis"
   ]
  },
  {
   "cell_type": "code",
   "execution_count": 67,
   "metadata": {
    "collapsed": false
   },
   "outputs": [
    {
     "name": "stdout",
     "output_type": "stream",
     "text": [
      "Accuracy: 0.759242\n",
      "Time: 0.00826782917976\n"
     ]
    },
    {
     "data": {
      "image/png": "[encoded data removed]",
      "text/plain": [
       "<matplotlib.figure.Figure at 0x110a68f90>"
      ]
     },
     "metadata": {},
     "output_type": "display_data"
    }
   ],
   "source": [
    "from sklearn.discriminant_analysis import LinearDiscriminantAnalysis\n",
    "\n",
    "model = LinearDiscriminantAnalysis(solver='svd')\n",
    "lda_ = runAlgorithm(model,1000)\n",
    "print 'Accuracy: {}\\nTime: {}'.format(*lda_[0])\n",
    "plotDist(lda_[1],20)"
   ]
  },
  {
   "cell_type": "markdown",
   "metadata": {},
   "source": [
    "## Quadratic Discriminant Analysis"
   ]
  },
  {
   "cell_type": "code",
   "execution_count": 68,
   "metadata": {
    "collapsed": false
   },
   "outputs": [
    {
     "name": "stdout",
     "output_type": "stream",
     "text": [
      "Accuracy: 0.756185666667\n",
      "Time: 0.00662580728531\n"
     ]
    },
    {
     "data": {
      "image/png": "[encoded data removed]",
      "text/plain": [
       "<matplotlib.figure.Figure at 0x125a6df50>"
      ]
     },
     "metadata": {},
     "output_type": "display_data"
    }
   ],
   "source": [
    "from sklearn.discriminant_analysis import QuadraticDiscriminantAnalysis\n",
    "\n",
    "model = QuadraticDiscriminantAnalysis()\n",
    "qda_= runAlgorithm(model, 1000)\n",
    "print 'Accuracy: {}\\nTime: {}'.format(*qda_[0])\n",
    "plotDist(qda_[1],20)"
   ]
  },
  {
   "cell_type": "markdown",
   "metadata": {},
   "source": [
    "## Gradient Boost "
   ]
  },
  {
   "cell_type": "code",
   "execution_count": 69,
   "metadata": {
    "collapsed": false
   },
   "outputs": [
    {
     "name": "stdout",
     "output_type": "stream",
     "text": [
      "Accuracy: 0.74077\n",
      "Time: 1.13194817543\n"
     ]
    },
    {
     "data": {
      "image/png": "[encoded data removed]",
      "text/plain": [
       "<matplotlib.figure.Figure at 0x1246fee10>"
      ]
     },
     "metadata": {},
     "output_type": "display_data"
    }
   ],
   "source": [
    "from sklearn.ensemble import GradientBoostingClassifier as GBC\n",
    "\n",
    "#start = time.time()\n",
    "gbc = GBC(max_leaf_nodes=500, min_weight_fraction_leaf=0.001, min_samples_split=100, learning_rate=.4, max_features=\"auto\")\n",
    "grad = runAlgorithm(gbc, trials=100)\n",
    "print 'Accuracy: {}\\nTime: {}'.format(*grad[0])\n",
    "plotDist(grad[1],10)"
   ]
  },
  {
   "cell_type": "markdown",
   "metadata": {},
   "source": [
    "## MLP"
   ]
  },
  {
   "cell_type": "code",
   "execution_count": 70,
   "metadata": {
    "collapsed": false
   },
   "outputs": [
    {
     "name": "stdout",
     "output_type": "stream",
     "text": [
      "Accuracy: 0.744033333333\n",
      "Time: 7.70335625807\n"
     ]
    },
    {
     "data": {
      "image/png": "[encoded data removed]",
      "text/plain": [
       "<matplotlib.figure.Figure at 0x1247a0f90>"
      ]
     },
     "metadata": {},
     "output_type": "display_data"
    }
   ],
   "source": [
    "from sklearn.neural_network import MLPClassifier as mlp\n",
    "\n",
    "start = time.time()\n",
    "gbm = mlp(solver=\"lbfgs\", activation='tanh', tol=1e-4, alpha=1e-5)#.fit(X_train,Y_train)\n",
    "mlp_r = runAlgorithm(gbm, trials=30)\n",
    "print 'Accuracy: {}\\nTime: {}'.format(*mlp_r[0])\n",
    "plotDist(mlp_r[1],10)"
   ]
  },
  {
   "cell_type": "markdown",
   "metadata": {},
   "source": [
    "## Random Forests"
   ]
  },
  {
   "cell_type": "code",
   "execution_count": 71,
   "metadata": {
    "collapsed": false
   },
   "outputs": [
    {
     "name": "stdout",
     "output_type": "stream",
     "text": [
      "Accuracy: 0.741713333333\n",
      "Time: 2.35221369743\n"
     ]
    },
    {
     "data": {
      "image/png": "[encoded data removed]",
      "text/plain": [
       "<matplotlib.figure.Figure at 0x1223a78d0>"
      ]
     },
     "metadata": {},
     "output_type": "display_data"
    }
   ],
   "source": [
    "from sklearn.ensemble import RandomForestClassifier as RFC\n",
    "\n",
    "rfc = RFC(min_samples_split=3, n_estimators =100)\n",
    "forest = runAlgorithm(rfc, trials=100)\n",
    "print 'Accuracy: {}\\nTime: {}'.format(*forest[0])\n",
    "plotDist(forest[1],10)"
   ]
  },
  {
   "cell_type": "markdown",
   "metadata": {},
   "source": [
    "## Decision Tree"
   ]
  },
  {
   "cell_type": "code",
   "execution_count": 72,
   "metadata": {
    "collapsed": false
   },
   "outputs": [
    {
     "name": "stdout",
     "output_type": "stream",
     "text": [
      "Accuracy: 0.663064666667\n",
      "Time: 0.128382692814\n"
     ]
    },
    {
     "data": {
      "image/png": "[encoded data removed]",
      "text/plain": [
       "<matplotlib.figure.Figure at 0x122103790>"
      ]
     },
     "metadata": {},
     "output_type": "display_data"
    }
   ],
   "source": [
    "from sklearn.tree import DecisionTreeClassifier as DTC\n",
    "\n",
    "dtc = DTC(criterion='entropy')\n",
    "tree = runAlgorithm(dtc, trials=500)\n",
    "print 'Accuracy: {}\\nTime: {}'.format(*tree[0])\n",
    "plotDist(tree[1],20)"
   ]
  },
  {
   "cell_type": "markdown",
   "metadata": {},
   "source": [
    "## XGBoost"
   ]
  },
  {
   "cell_type": "code",
   "execution_count": 73,
   "metadata": {
    "collapsed": false
   },
   "outputs": [
    {
     "name": "stdout",
     "output_type": "stream",
     "text": [
      "Accuracy: 0.748068666667\n",
      "Time: 0.396643678665\n"
     ]
    },
    {
     "data": {
      "image/png": "[encoded data removed]",
      "text/plain": [
       "<matplotlib.figure.Figure at 0x121db2390>"
      ]
     },
     "metadata": {},
     "output_type": "display_data"
    }
   ],
   "source": [
    "import xgboost as xgb\n",
    "accuracy = []\n",
    "times = []\n",
    "for i in xrange(500):\n",
    "    X_train, X_test, y_train, y_test = train_test_split(data, targets, test_size=.2)\n",
    "    start = time.time()\n",
    "    dtrain = xgb.DMatrix(X_train, y_train)\n",
    "    dtest = xgb.DMatrix(X_test)\n",
    "\n",
    "    param = {'objective':'multi:softmax', 'num_class':5,'normalize_type':'forest','rate_drop':1, 'lambda':50, 'alpha':10}\n",
    "    bst = xgb.train(param, dtrain)\n",
    "    preds = bst.predict(dtest) > .5\n",
    "    accuracy.append((preds == y_test).mean())\n",
    "    times.append(time.time() -start)\n",
    "    #print preds\n",
    "\n",
    "xgb_r = (np.mean(accuracy), np.mean(times)),accuracy\n",
    "print 'Accuracy: {}\\nTime: {}'.format(*xgb_r[0])\n",
    "plotDist(xgb_r[1], 20)"
   ]
  },
  {
   "cell_type": "markdown",
   "metadata": {},
   "source": [
    "# Model Comparison"
   ]
  },
  {
   "cell_type": "code",
   "execution_count": 80,
   "metadata": {
    "collapsed": false
   },
   "outputs": [
    {
     "data": {
      "text/html": [
       "<div>\n",
       "<table border=\"1\" class=\"dataframe\">\n",
       "  <thead>\n",
       "    <tr style=\"text-align: right;\">\n",
       "      <th></th>\n",
       "      <th>Algorithm</th>\n",
       "      <th>Accuracy</th>\n",
       "      <th>Time</th>\n",
       "    </tr>\n",
       "  </thead>\n",
       "  <tbody>\n",
       "    <tr>\n",
       "      <th>0</th>\n",
       "      <td>Logistic Regression</td>\n",
       "      <td>0.759353</td>\n",
       "      <td>0.037792</td>\n",
       "    </tr>\n",
       "    <tr>\n",
       "      <th>1</th>\n",
       "      <td>LDA</td>\n",
       "      <td>0.759242</td>\n",
       "      <td>0.008268</td>\n",
       "    </tr>\n",
       "    <tr>\n",
       "      <th>2</th>\n",
       "      <td>Ridge Regression</td>\n",
       "      <td>0.759166</td>\n",
       "      <td>0.043255</td>\n",
       "    </tr>\n",
       "    <tr>\n",
       "      <th>3</th>\n",
       "      <td>QDA</td>\n",
       "      <td>0.756186</td>\n",
       "      <td>0.006626</td>\n",
       "    </tr>\n",
       "    <tr>\n",
       "      <th>4</th>\n",
       "      <td>XGBoost</td>\n",
       "      <td>0.748069</td>\n",
       "      <td>0.396644</td>\n",
       "    </tr>\n",
       "    <tr>\n",
       "      <th>5</th>\n",
       "      <td>MLP</td>\n",
       "      <td>0.744033</td>\n",
       "      <td>7.703356</td>\n",
       "    </tr>\n",
       "    <tr>\n",
       "      <th>6</th>\n",
       "      <td>Random Forest</td>\n",
       "      <td>0.741713</td>\n",
       "      <td>2.352214</td>\n",
       "    </tr>\n",
       "    <tr>\n",
       "      <th>7</th>\n",
       "      <td>Gradient Boost</td>\n",
       "      <td>0.740770</td>\n",
       "      <td>1.131948</td>\n",
       "    </tr>\n",
       "    <tr>\n",
       "      <th>8</th>\n",
       "      <td>Decision Tree</td>\n",
       "      <td>0.663065</td>\n",
       "      <td>0.128383</td>\n",
       "    </tr>\n",
       "    <tr>\n",
       "      <th>9</th>\n",
       "      <td>SVM</td>\n",
       "      <td>0.661773</td>\n",
       "      <td>4.616042</td>\n",
       "    </tr>\n",
       "    <tr>\n",
       "      <th>10</th>\n",
       "      <td>Baseline</td>\n",
       "      <td>0.597800</td>\n",
       "      <td>0.000546</td>\n",
       "    </tr>\n",
       "  </tbody>\n",
       "</table>\n",
       "</div>"
      ],
      "text/plain": [
       "              Algorithm  Accuracy      Time\n",
       "0   Logistic Regression  0.759353  0.037792\n",
       "1                   LDA  0.759242  0.008268\n",
       "2      Ridge Regression  0.759166  0.043255\n",
       "3                   QDA  0.756186  0.006626\n",
       "4               XGBoost  0.748069  0.396644\n",
       "5                   MLP  0.744033  7.703356\n",
       "6         Random Forest  0.741713  2.352214\n",
       "7        Gradient Boost  0.740770  1.131948\n",
       "8         Decision Tree  0.663065  0.128383\n",
       "9                   SVM  0.661773  4.616042\n",
       "10             Baseline  0.597800  0.000546"
      ]
     },
     "execution_count": 80,
     "metadata": {},
     "output_type": "execute_result"
    }
   ],
   "source": [
    "comps = pd.DataFrame(columns=['Algorithm', 'Accuracy', 'Time'])\n",
    "comps['Algorithm'] = ['Baseline', 'SVM', 'Logistic Regression', 'Ridge Regression', \n",
    "                      'Gradient Boost', 'XGBoost',\n",
    "                      'MLP', 'Decision Tree', 'Random Forest', 'LDA', 'QDA']\n",
    "\n",
    "results = [baseline_, svm_r, log_reg, rid_reg, grad, xgb_r, mlp_r, tree, forest, lda_, qda_]\n",
    "comps['Accuracy'] = [m[0][0] for m in results]\n",
    "comps['Time'] = [m[0][1] for m in results]\n",
    "\n",
    "comps.sort_values('Accuracy', ascending=False).reset_index(drop=True)"
   ]
  },
  {
   "cell_type": "code",
   "execution_count": 81,
   "metadata": {
    "collapsed": false
   },
   "outputs": [
    {
     "data": {
      "text/html": [
       "<div>\n",
       "<table border=\"1\" class=\"dataframe\">\n",
       "  <thead>\n",
       "    <tr style=\"text-align: right;\">\n",
       "      <th></th>\n",
       "      <th>Algorithm</th>\n",
       "      <th>Accuracy</th>\n",
       "      <th>Time</th>\n",
       "    </tr>\n",
       "  </thead>\n",
       "  <tbody>\n",
       "    <tr>\n",
       "      <th>0</th>\n",
       "      <td>Baseline</td>\n",
       "      <td>0.597800</td>\n",
       "      <td>0.000546</td>\n",
       "    </tr>\n",
       "    <tr>\n",
       "      <th>1</th>\n",
       "      <td>QDA</td>\n",
       "      <td>0.756186</td>\n",
       "      <td>0.006626</td>\n",
       "    </tr>\n",
       "    <tr>\n",
       "      <th>2</th>\n",
       "      <td>LDA</td>\n",
       "      <td>0.759242</td>\n",
       "      <td>0.008268</td>\n",
       "    </tr>\n",
       "    <tr>\n",
       "      <th>3</th>\n",
       "      <td>Logistic Regression</td>\n",
       "      <td>0.759353</td>\n",
       "      <td>0.037792</td>\n",
       "    </tr>\n",
       "    <tr>\n",
       "      <th>4</th>\n",
       "      <td>Ridge Regression</td>\n",
       "      <td>0.759166</td>\n",
       "      <td>0.043255</td>\n",
       "    </tr>\n",
       "    <tr>\n",
       "      <th>5</th>\n",
       "      <td>Decision Tree</td>\n",
       "      <td>0.663065</td>\n",
       "      <td>0.128383</td>\n",
       "    </tr>\n",
       "    <tr>\n",
       "      <th>6</th>\n",
       "      <td>XGBoost</td>\n",
       "      <td>0.748069</td>\n",
       "      <td>0.396644</td>\n",
       "    </tr>\n",
       "    <tr>\n",
       "      <th>7</th>\n",
       "      <td>Gradient Boost</td>\n",
       "      <td>0.740770</td>\n",
       "      <td>1.131948</td>\n",
       "    </tr>\n",
       "    <tr>\n",
       "      <th>8</th>\n",
       "      <td>Random Forest</td>\n",
       "      <td>0.741713</td>\n",
       "      <td>2.352214</td>\n",
       "    </tr>\n",
       "    <tr>\n",
       "      <th>9</th>\n",
       "      <td>SVM</td>\n",
       "      <td>0.661773</td>\n",
       "      <td>4.616042</td>\n",
       "    </tr>\n",
       "    <tr>\n",
       "      <th>10</th>\n",
       "      <td>MLP</td>\n",
       "      <td>0.744033</td>\n",
       "      <td>7.703356</td>\n",
       "    </tr>\n",
       "  </tbody>\n",
       "</table>\n",
       "</div>"
      ],
      "text/plain": [
       "              Algorithm  Accuracy      Time\n",
       "0              Baseline  0.597800  0.000546\n",
       "1                   QDA  0.756186  0.006626\n",
       "2                   LDA  0.759242  0.008268\n",
       "3   Logistic Regression  0.759353  0.037792\n",
       "4      Ridge Regression  0.759166  0.043255\n",
       "5         Decision Tree  0.663065  0.128383\n",
       "6               XGBoost  0.748069  0.396644\n",
       "7        Gradient Boost  0.740770  1.131948\n",
       "8         Random Forest  0.741713  2.352214\n",
       "9                   SVM  0.661773  4.616042\n",
       "10                  MLP  0.744033  7.703356"
      ]
     },
     "execution_count": 81,
     "metadata": {},
     "output_type": "execute_result"
    }
   ],
   "source": [
    "comps.sort_values('Time').reset_index(drop=True)"
   ]
  },
  {
   "cell_type": "code",
   "execution_count": 100,
   "metadata": {
    "collapsed": false
   },
   "outputs": [
    {
     "data": {
      "image/png": "[encoded data removed]",
      "text/plain": [
       "<matplotlib.figure.Figure at 0x122387190>"
      ]
     },
     "metadata": {},
     "output_type": "display_data"
    }
   ],
   "source": [
    "plt.figure(figsize=(20,10))\n",
    "i = 1\n",
    "for model in results[1:]:\n",
    "    lab = comps['Algorithm'][i]\n",
    "    trans = comps['Accuracy'][i]\n",
    "    i+=1\n",
    "    plt.hist(model[1],alpha=trans/3.,bins=15,label=lab,normed=True)\n",
    "plt.legend()\n",
    "plt.show()"
   ]
  },
  {
   "cell_type": "code",
   "execution_count": 102,
   "metadata": {
    "collapsed": false
   },
   "outputs": [
    {
     "data": {
      "image/png": "[encoded data removed]",
      "text/plain": [
       "<matplotlib.figure.Figure at 0x1247961d0>"
      ]
     },
     "metadata": {},
     "output_type": "display_data"
    }
   ],
   "source": [
    "plt.hist(log_reg[1],color='c',alpha=0.2,bins=15)\n",
    "plt.hist(rid_reg[1],color='g',alpha=0.2,bins=15)\n",
    "plt.hist(lda_[1],color='r',alpha=0.2,bins=15)\n",
    "plt.show()"
   ]
  },
  {
   "cell_type": "markdown",
   "metadata": {},
   "source": [
    "## Evaluate accuracy and effectiveness of the methods you used and compare the relative strengths and weaknesses of each method for this particular project.  \n",
    "\n",
    "The methods that we focused on were regression based methods, tree based methods, neural nets, and SVMs. \n",
    "\n",
    "### Regression based\n",
    "Methods used: Logistic Regression, Ridge Regression\n",
    "\n",
    "Both methods worked extremely well, with accuracies around 76% and running in only ~.03 seconds.  Note that logistic regression is really just a classifier, meaning the output is 1 or 0.  However, ridge regression outputs a continuous variable. Since a regression algorithm returns a continuous output, we set a threshold value of .5.  In other words, if the model returns a number greater than .5, we classified this as 1 or True.\n",
    "\n",
    "### Tree based\n",
    "Methods used: Decision Tree, Random Forest, Gradient Boost, XGBoost\n",
    "\n",
    "Random Forests ran about as accurately as some of our better performers at 74%, but is a much slower method running in about a second and a half.\n",
    "\n",
    "As expected, Decision Trees ran less accurately than Random Forests at 67% but runs much faster at ~.1 seconds. Decision Trees are one of the fasted methods we tested.\n",
    "\n",
    "XGBoost was among the best of the tree methods, both fast and respectably accurate.  However, we could not quite get it to surpass the regression methods in accuracy, and those take only half the time.\n",
    "\n",
    "Gradient Boost performed just under XGBoost both in time and accuracy.\n",
    "\n",
    "\n",
    "### Gaussian Discriminant Analysis\n",
    "Methods used: Linear Discriminant Analysis, Quadratic Discriminant Analysis\n",
    "\n",
    "Despite their simplicity and the lack of parameters to tune, these two methods both achieve accuracy above 75% and run quickly. They are not quite as accurate as the regression methods, but they are about an order of magnitude faster. The fact that this works so well suggests that the wins and losses are somewhat linearly separable.\n",
    "\n",
    "\n",
    "### Neural nets\n",
    "Methods used: MLP\n",
    "\n",
    "Our Multi Layer Perception (MLP) was as accurate as many of our top performers at ~75%, but was by far our slowest algorithm taking nearly 7.5 seconds to run. As such even though it is accurate, we would not choose to continue working with it because it is so much slower than other algorithms that are equally accurate.\n",
    "\n",
    "### SVM\n",
    "Our Support Vector Machine ran the worst accuracy out of any of our other methods at 65%. It also was our second slowest methods running at nearly 3 seconds. Because it was outperformed by almost all of our other tests in both categories, we will not continue working with this method."
   ]
  },
  {
   "cell_type": "markdown",
   "metadata": {
    "collapsed": true
   },
   "source": [
    "# Algorithms we chose not to use\n",
    "\n",
    "### Nearest neighbor\n",
    "\n",
    "Due to the fact that we are not performing any kind of cluster analysis, we have decided the NN-classifying and NN-regression algorithms are not useful. \n",
    "\n",
    "### Mixture models with latent variables (train with EM)\n",
    "\n",
    "Because there is not an unknown distribution in our dataset, mixture models along with EM will not work with our data set.\n",
    "\n",
    "\n",
    "### Kalman Filters\n",
    "\n",
    "Our data is not a true time series because we are not interested in how teams' overall performances changes over time. Games are decided strictly by winners and losers, so there is not any measurable error or noise. Because of this we have determined that it will not be useful in our methods. \n",
    "\n",
    "### AR, MA, ARMA, ARIMA time series models\n",
    "\n",
    "Because these models are trying to describe certain time-varying processes of a time series, they will not be helpful in trying to predict wins and losses of specific games. "
   ]
  },
  {
   "cell_type": "markdown",
   "metadata": {
    "collapsed": true
   },
   "source": [
    "# Summary\n",
    "\n",
    "Basketball game outcomes are very unreliable.  Even a team that has performed well for the last few games can suddenly and inexplicably lose to a team that has been performing poorly; and this happens not infrequently.  Due to these vagaries, we feel that 75% accuracy is quite reasonable for this stage of our project.  We hope to improve on this over the next month by including more features in our data, namely team statistics: free throws, shots attempted, steals, percentages, and so forth."
   ]
  },
  {
   "cell_type": "markdown",
   "metadata": {},
   "source": [
    "\n",
    "\n",
    "\n",
    "\n",
    "\n",
    "\n",
    "\n",
    "\n",
    "\n",
    "\n"
   ]
  },
  {
   "cell_type": "markdown",
   "metadata": {
    "collapsed": true
   },
   "source": [
    "# New Methods"
   ]
  },
  {
   "cell_type": "markdown",
   "metadata": {},
   "source": [
    "## SVR\n",
    "Epsilon-Support Vector Regression. Support Vector Regression (SVR) attempts to minimize the generalization error bound so as to achieve generalized performance. The idea of SVR is based on the computation of a linear regression function in a high dimensional feature space where the input data are mapped via a nonlinear function."
   ]
  },
  {
   "cell_type": "code",
   "execution_count": 103,
   "metadata": {
    "collapsed": false
   },
   "outputs": [
    {
     "name": "stdout",
     "output_type": "stream",
     "text": [
      "0\n",
      "0\n",
      "0\n",
      "0\n",
      "0\n",
      "0\n",
      "0\n",
      "0\n",
      "0\n",
      "0\n",
      "0\n",
      "0\n",
      "0\n",
      "0\n",
      "0\n",
      "0\n",
      "0\n",
      "0\n",
      "0\n",
      "0\n",
      "Accuracy: 0.593683333333\n",
      "Time: 4.14188535213\n"
     ]
    },
    {
     "data": {
      "image/png": "[encoded data removed]",
      "text/plain": [
       "<matplotlib.figure.Figure at 0x1238b1b90>"
      ]
     },
     "metadata": {},
     "output_type": "display_data"
    }
   ],
   "source": [
    "from sklearn import svm\n",
    "from sklearn import preprocessing\n",
    "\n",
    "\n",
    "accuracy = []\n",
    "times = []\n",
    "for i in xrange(20):\n",
    "    X = preprocessing.scale(data)\n",
    "    X_train, X_test, y_train, y_test = train_test_split(X, targets, test_size=.2)\n",
    "    \n",
    "    s = time.time()\n",
    "    SVR_model = svm.SVR(C=10**-7, epsilon=.1, kernel='poly', coef0=-2, gamma=10**-4).fit(X_train, y_train)\n",
    "#     SVR_model = svm.SVR().fit(X_train, y_train)\n",
    "    preds = SVR_model.predict(X_test) <= 0\n",
    "#     print preds\n",
    "    prob = 1.*np.sum(preds == y_test)/len(y_test)\n",
    "    times.append(time.time() - s)\n",
    "    accuracy.append(prob)\n",
    "\n",
    "svm_r = ((np.mean(accuracy), np.mean(times)),accuracy)\n",
    "print 'Accuracy: {}\\nTime: {}'.format(*svm_r[0])\n",
    "plotDist(svm_r[1],5)"
   ]
  },
  {
   "cell_type": "markdown",
   "metadata": {},
   "source": [
    "## Orthogonal Matching Pursuit (OMP)\n",
    "A sparse approximation algorithm which involves finding the \"best matching\" projections of multidimensional data onto the span of an over-complete dictionary D. After every step, all the coefficients extracted so far are updated, by computing the orthogonal projection of the signal onto the set of points selected so far."
   ]
  },
  {
   "cell_type": "code",
   "execution_count": 104,
   "metadata": {
    "collapsed": false
   },
   "outputs": [
    {
     "name": "stdout",
     "output_type": "stream",
     "text": [
      "Accuracy: 0.758036\n",
      "Time: 0.00276324558258\n"
     ]
    },
    {
     "data": {
      "image/png": "[encoded data removed]",
      "text/plain": [
       "<matplotlib.figure.Figure at 0x12396b950>"
      ]
     },
     "metadata": {},
     "output_type": "display_data"
    }
   ],
   "source": [
    "from sklearn import linear_model as lm\n",
    "\n",
    "model = lm.OrthogonalMatchingPursuit(n_nonzero_coefs=7, precompute=True)\n",
    "omp = runAlgorithm(model, trials=500)\n",
    "print 'Accuracy: {}\\nTime: {}'.format(*omp[0])\n",
    "plotDist(omp[1],20)"
   ]
  },
  {
   "cell_type": "markdown",
   "metadata": {},
   "source": [
    "## Extra Trees Classifier\n",
    "\n",
    "An “extra trees” classifier, otherwise known as an “Extremely randomized trees” classifier, is a variant of a random forest. Unlike a random forest, at each step the entire sample is used and decision boundaries are picked at random, rather than the best one. In real world cases, performance is comparable to an ordinary random forest, sometimes better."
   ]
  },
  {
   "cell_type": "code",
   "execution_count": 105,
   "metadata": {
    "collapsed": false
   },
   "outputs": [
    {
     "name": "stdout",
     "output_type": "stream",
     "text": [
      "Accuracy: 0.74385\n",
      "Time: 1.43858869553\n"
     ]
    },
    {
     "data": {
      "image/png": "[encoded data removed]",
      "text/plain": [
       "<matplotlib.figure.Figure at 0x124b14250>"
      ]
     },
     "metadata": {},
     "output_type": "display_data"
    }
   ],
   "source": [
    "from sklearn.ensemble import ExtraTreesClassifier\n",
    "extraforest = ExtraTreesClassifier(n_estimators=100, oob_score=True, bootstrap=True)\n",
    "\n",
    "xtrees = runAlgorithm(extraforest,trials=100)\n",
    "print 'Accuracy: {}\\nTime: {}'.format(*xtrees[0])\n",
    "plotDist(xtrees[1],10)"
   ]
  },
  {
   "cell_type": "markdown",
   "metadata": {},
   "source": [
    "## Bayesian Ridge Regression\n",
    "\n",
    "Estimates a probabilistic model of the regression problem as described above. The prior for the parameter w is given by a spherical Gaussian. The priors over alpha and lambda are chosen to be gamma distributions, the conjugate prior for the precision of the Gaussian. The parameters are estimated by maximizing the marginal log likelihood."
   ]
  },
  {
   "cell_type": "code",
   "execution_count": 106,
   "metadata": {
    "collapsed": false
   },
   "outputs": [
    {
     "name": "stdout",
     "output_type": "stream",
     "text": [
      "Accuracy: 0.758786\n",
      "Time: 0.00422581386566\n"
     ]
    },
    {
     "data": {
      "image/png": "[encoded data removed]",
      "text/plain": [
       "<matplotlib.figure.Figure at 0x12460ce10>"
      ]
     },
     "metadata": {},
     "output_type": "display_data"
    }
   ],
   "source": [
    "from sklearn import linear_model as lm\n",
    "\n",
    "model = lm.BayesianRidge()\n",
    "bayes_ridge = runAlgorithm(model, trials=500)\n",
    "print 'Accuracy: {}\\nTime: {}'.format(*bayes_ridge[0])\n",
    "plotDist(bayes_ridge[1],20)"
   ]
  },
  {
   "cell_type": "markdown",
   "metadata": {},
   "source": [
    "## Voting Classifier\n",
    "\n",
    "A Voting Classifier is used to employ multiple individual classifiers and combine their predictions, which could achieve better performance than a single classifier."
   ]
  },
  {
   "cell_type": "code",
   "execution_count": 107,
   "metadata": {
    "collapsed": false
   },
   "outputs": [
    {
     "ename": "NameError",
     "evalue": "name 'model2' is not defined",
     "output_type": "error",
     "traceback": [
      "\u001b[0;31m---------------------------------------------------------------------------\u001b[0m",
      "\u001b[0;31mNameError\u001b[0m                                 Traceback (most recent call last)",
      "\u001b[0;32m<ipython-input-107-9d8a2b6ce1e0>\u001b[0m in \u001b[0;36m<module>\u001b[0;34m()\u001b[0m\n\u001b[1;32m      1\u001b[0m \u001b[0;32mfrom\u001b[0m \u001b[0msklearn\u001b[0m\u001b[0;34m.\u001b[0m\u001b[0mensemble\u001b[0m \u001b[0;32mimport\u001b[0m \u001b[0mVotingClassifier\u001b[0m\u001b[0;34m\u001b[0m\u001b[0m\n\u001b[1;32m      2\u001b[0m \u001b[0;34m\u001b[0m\u001b[0m\n\u001b[0;32m----> 3\u001b[0;31m \u001b[0mvote_model\u001b[0m \u001b[0;34m=\u001b[0m \u001b[0mVotingClassifier\u001b[0m\u001b[0;34m(\u001b[0m\u001b[0mestimators\u001b[0m\u001b[0;34m=\u001b[0m\u001b[0;34m[\u001b[0m\u001b[0;34m(\u001b[0m\u001b[0;34m'lr'\u001b[0m\u001b[0;34m,\u001b[0m \u001b[0mmodel\u001b[0m\u001b[0;34m)\u001b[0m\u001b[0;34m,\u001b[0m\u001b[0;34m(\u001b[0m\u001b[0;34m'LDA'\u001b[0m\u001b[0;34m,\u001b[0m\u001b[0mmodel2\u001b[0m\u001b[0;34m)\u001b[0m\u001b[0;34m,\u001b[0m\u001b[0;34m(\u001b[0m\u001b[0;34m'QDA'\u001b[0m\u001b[0;34m,\u001b[0m\u001b[0mmodelQDA\u001b[0m\u001b[0;34m)\u001b[0m\u001b[0;34m]\u001b[0m\u001b[0;34m,\u001b[0m \u001b[0mvoting\u001b[0m\u001b[0;34m=\u001b[0m\u001b[0;34m'soft'\u001b[0m\u001b[0;34m)\u001b[0m\u001b[0;34m\u001b[0m\u001b[0m\n\u001b[0m\u001b[1;32m      4\u001b[0m \u001b[0mvoting\u001b[0m \u001b[0;34m=\u001b[0m \u001b[0mrunAlgorithm\u001b[0m\u001b[0;34m(\u001b[0m\u001b[0mvote_model\u001b[0m\u001b[0;34m,\u001b[0m \u001b[0mtrials\u001b[0m\u001b[0;34m=\u001b[0m\u001b[0;36m500\u001b[0m\u001b[0;34m)\u001b[0m\u001b[0;34m\u001b[0m\u001b[0m\n\u001b[1;32m      5\u001b[0m \u001b[0;32mprint\u001b[0m \u001b[0;34m'Accuracy: {}\\nTime: {}'\u001b[0m\u001b[0;34m.\u001b[0m\u001b[0mformat\u001b[0m\u001b[0;34m(\u001b[0m\u001b[0;34m*\u001b[0m\u001b[0mvoting\u001b[0m\u001b[0;34m[\u001b[0m\u001b[0;36m0\u001b[0m\u001b[0;34m]\u001b[0m\u001b[0;34m)\u001b[0m\u001b[0;34m\u001b[0m\u001b[0m\n",
      "\u001b[0;31mNameError\u001b[0m: name 'model2' is not defined"
     ]
    }
   ],
   "source": [
    "from sklearn.ensemble import VotingClassifier\n",
    "\n",
    "vote_model = VotingClassifier(estimators=[('lr', model),('LDA',model2),('QDA',modelQDA)], voting='soft')\n",
    "voting = runAlgorithm(vote_model, trials=500)\n",
    "print 'Accuracy: {}\\nTime: {}'.format(*voting[0])\n",
    "plotDist(voting[1],20)"
   ]
  },
  {
   "cell_type": "code",
   "execution_count": 109,
   "metadata": {
    "collapsed": false
   },
   "outputs": [
    {
     "ename": "NameError",
     "evalue": "name 'voting' is not defined",
     "output_type": "error",
     "traceback": [
      "\u001b[0;31m---------------------------------------------------------------------------\u001b[0m",
      "\u001b[0;31mNameError\u001b[0m                                 Traceback (most recent call last)",
      "\u001b[0;32m<ipython-input-109-6d5a027e35d3>\u001b[0m in \u001b[0;36m<module>\u001b[0;34m()\u001b[0m\n\u001b[1;32m      6\u001b[0m \u001b[0;34m\u001b[0m\u001b[0m\n\u001b[1;32m      7\u001b[0m results = [baseline_, svm_r, log_reg, rid_reg, grad, xgb_r, mlp_r, tree, forest, lda_, qda_,\n\u001b[0;32m----> 8\u001b[0;31m            svm_r, omp, xtrees, bayes_ridge, voting]\n\u001b[0m\u001b[1;32m      9\u001b[0m \u001b[0;34m\u001b[0m\u001b[0m\n\u001b[1;32m     10\u001b[0m \u001b[0mcomps\u001b[0m\u001b[0;34m[\u001b[0m\u001b[0;34m'Accuracy'\u001b[0m\u001b[0;34m]\u001b[0m \u001b[0;34m=\u001b[0m \u001b[0;34m[\u001b[0m\u001b[0mm\u001b[0m\u001b[0;34m[\u001b[0m\u001b[0;36m0\u001b[0m\u001b[0;34m]\u001b[0m\u001b[0;34m[\u001b[0m\u001b[0;36m0\u001b[0m\u001b[0;34m]\u001b[0m \u001b[0;32mfor\u001b[0m \u001b[0mm\u001b[0m \u001b[0;32min\u001b[0m \u001b[0mresults\u001b[0m\u001b[0;34m]\u001b[0m\u001b[0;34m\u001b[0m\u001b[0m\n",
      "\u001b[0;31mNameError\u001b[0m: name 'voting' is not defined"
     ]
    }
   ],
   "source": [
    "comps = pd.DataFrame(columns=['Algorithm', 'Accuracy', 'Time'])\n",
    "comps['Algorithm'] = ['Baseline', 'SVM', 'Logistic Regression', 'Ridge Regression', \n",
    "                      'Gradient Boost', 'XGBoost',\n",
    "                      'MLP', 'Decision Tree', 'Random Forest', 'LDA', 'QDA',\n",
    "                      'SVR', 'OMP', 'ExtremeTrees', 'Bayes Ridge', 'Voting']\n",
    "\n",
    "results = [baseline_, svm_r, log_reg, rid_reg, grad, xgb_r, mlp_r, tree, forest, lda_, qda_,\n",
    "           svm_r, omp, xtrees, bayes_ridge, voting]\n",
    "\n",
    "comps['Accuracy'] = [m[0][0] for m in results]\n",
    "comps['Time'] = [m[0][1] for m in results]\n",
    "\n",
    "comps.sort_values('Accuracy', ascending=False).reset_index(drop=True)"
   ]
  },
  {
   "cell_type": "code",
   "execution_count": 108,
   "metadata": {
    "collapsed": false
   },
   "outputs": [
    {
     "data": {
      "text/html": [
       "<div>\n",
       "<table border=\"1\" class=\"dataframe\">\n",
       "  <thead>\n",
       "    <tr style=\"text-align: right;\">\n",
       "      <th></th>\n",
       "      <th>Algorithm</th>\n",
       "      <th>Accuracy</th>\n",
       "      <th>Time</th>\n",
       "    </tr>\n",
       "  </thead>\n",
       "  <tbody>\n",
       "    <tr>\n",
       "      <th>0</th>\n",
       "      <td>Baseline</td>\n",
       "      <td>0.597800</td>\n",
       "      <td>0.000546</td>\n",
       "    </tr>\n",
       "    <tr>\n",
       "      <th>1</th>\n",
       "      <td>QDA</td>\n",
       "      <td>0.756186</td>\n",
       "      <td>0.006626</td>\n",
       "    </tr>\n",
       "    <tr>\n",
       "      <th>2</th>\n",
       "      <td>LDA</td>\n",
       "      <td>0.759242</td>\n",
       "      <td>0.008268</td>\n",
       "    </tr>\n",
       "    <tr>\n",
       "      <th>3</th>\n",
       "      <td>Logistic Regression</td>\n",
       "      <td>0.759353</td>\n",
       "      <td>0.037792</td>\n",
       "    </tr>\n",
       "    <tr>\n",
       "      <th>4</th>\n",
       "      <td>Ridge Regression</td>\n",
       "      <td>0.759166</td>\n",
       "      <td>0.043255</td>\n",
       "    </tr>\n",
       "    <tr>\n",
       "      <th>5</th>\n",
       "      <td>Decision Tree</td>\n",
       "      <td>0.663065</td>\n",
       "      <td>0.128383</td>\n",
       "    </tr>\n",
       "    <tr>\n",
       "      <th>6</th>\n",
       "      <td>XGBoost</td>\n",
       "      <td>0.748069</td>\n",
       "      <td>0.396644</td>\n",
       "    </tr>\n",
       "    <tr>\n",
       "      <th>7</th>\n",
       "      <td>Gradient Boost</td>\n",
       "      <td>0.740770</td>\n",
       "      <td>1.131948</td>\n",
       "    </tr>\n",
       "    <tr>\n",
       "      <th>8</th>\n",
       "      <td>Random Forest</td>\n",
       "      <td>0.741713</td>\n",
       "      <td>2.352214</td>\n",
       "    </tr>\n",
       "    <tr>\n",
       "      <th>9</th>\n",
       "      <td>SVM</td>\n",
       "      <td>0.661773</td>\n",
       "      <td>4.616042</td>\n",
       "    </tr>\n",
       "    <tr>\n",
       "      <th>10</th>\n",
       "      <td>MLP</td>\n",
       "      <td>0.744033</td>\n",
       "      <td>7.703356</td>\n",
       "    </tr>\n",
       "  </tbody>\n",
       "</table>\n",
       "</div>"
      ],
      "text/plain": [
       "              Algorithm  Accuracy      Time\n",
       "0              Baseline  0.597800  0.000546\n",
       "1                   QDA  0.756186  0.006626\n",
       "2                   LDA  0.759242  0.008268\n",
       "3   Logistic Regression  0.759353  0.037792\n",
       "4      Ridge Regression  0.759166  0.043255\n",
       "5         Decision Tree  0.663065  0.128383\n",
       "6               XGBoost  0.748069  0.396644\n",
       "7        Gradient Boost  0.740770  1.131948\n",
       "8         Random Forest  0.741713  2.352214\n",
       "9                   SVM  0.661773  4.616042\n",
       "10                  MLP  0.744033  7.703356"
      ]
     },
     "execution_count": 108,
     "metadata": {},
     "output_type": "execute_result"
    }
   ],
   "source": [
    "comps.sort_values('Time').reset_index(drop=True)"
   ]
  },
  {
   "cell_type": "code",
   "execution_count": null,
   "metadata": {
    "collapsed": true
   },
   "outputs": [],
   "source": []
  }
 ],
 "metadata": {
  "kernelspec": {
   "display_name": "Python [default]",
   "language": "python",
   "name": "python2"
  },
  "language_info": {
   "codemirror_mode": {
    "name": "ipython",
    "version": 2
   },
   "file_extension": ".py",
   "mimetype": "text/x-python",
   "name": "python",
   "nbconvert_exporter": "python",
   "pygments_lexer": "ipython2",
   "version": "2.7.13"
  }
 },
 "nbformat": 4,
 "nbformat_minor": 2
}
