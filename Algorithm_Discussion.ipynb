{
 "cells": [
  {
   "cell_type": "code",
   "execution_count": 27,
   "metadata": {
    "collapsed": false
   },
   "outputs": [],
   "source": [
    "import numpy as np\n",
    "import pandas as pd\n",
    "import datetime as dt\n",
    "from __future__ import division"
   ]
  },
  {
   "cell_type": "code",
   "execution_count": 43,
   "metadata": {
    "collapsed": false
   },
   "outputs": [],
   "source": [
    "# Read in data\n",
    "filename = 'Algorithms_Data.csv'\n",
    "data = pd.read_csv(filename)\n",
    "data = data[-15000:]\n",
    "train = data.iloc[:-300]\n",
    "test = data.iloc[-300:]"
   ]
  },
  {
   "cell_type": "code",
   "execution_count": 44,
   "metadata": {
    "collapsed": false
   },
   "outputs": [],
   "source": [
    "Y_train = train['Win']\n",
    "X_train = train[['fran_elo', 'opp_elo', 'RollAvg_A_5_pts', 'RollAvg_B_5_pts', 'RollAvg_A_5_opp_pts', 'RollAvg_B_5_opp_pts', 'Days_Since_Last']]\n",
    "#X_train = train[['fran_elo', 'opp_elo']]\n",
    "\n",
    "\n",
    "Y_test = test['Win']\n",
    "X_test = test[['fran_elo', 'opp_elo', 'RollAvg_A_5_pts', 'RollAvg_B_5_pts', 'RollAvg_A_5_opp_pts', 'RollAvg_B_5_opp_pts', 'Days_Since_Last']]\n",
    "#X_test = test[['fran_elo', 'opp_elo']]"
   ]
  },
  {
   "cell_type": "markdown",
   "metadata": {},
   "source": [
    "# Baseline\n",
    "Guess that the home team loses every game.  If a method doesn't do better than this, it isn't learning much."
   ]
  },
  {
   "cell_type": "code",
   "execution_count": 45,
   "metadata": {
    "collapsed": false
   },
   "outputs": [
    {
     "name": "stdout",
     "output_type": "stream",
     "text": [
      "0.573333333333\n",
      "\n"
     ]
    }
   ],
   "source": [
    "print (np.zeros(300) == Y_test).mean()\n",
    "\n",
    "print"
   ]
  },
  {
   "cell_type": "markdown",
   "metadata": {},
   "source": [
    "# SVM"
   ]
  },
  {
   "cell_type": "code",
   "execution_count": null,
   "metadata": {
    "collapsed": false
   },
   "outputs": [],
   "source": [
    "from sklearn import svm\n",
    "SVM_model = svm.SVC(C=10**-2, kernel='poly', coef0=1, gamma=10).fit(X_train,Y_train)\n",
    "preds = SVM_model.predict(X_test)\n",
    "prob = np.sum(preds == Y_test)/len(Y_test)\n",
    "print prob\n",
    "print preds\n",
    "# Holy slow"
   ]
  },
  {
   "cell_type": "markdown",
   "metadata": {},
   "source": [
    "# Logistic Regression"
   ]
  },
  {
   "cell_type": "code",
   "execution_count": 33,
   "metadata": {
    "collapsed": false
   },
   "outputs": [
    {
     "name": "stdout",
     "output_type": "stream",
     "text": [
      "0.716666666667\n",
      "[ True  True  True  True False False False  True False  True  True False\n",
      " False False False False False  True False False  True False  True  True\n",
      "  True  True  True  True  True  True  True False False  True  True  True\n",
      " False False  True False False False  True False False False  True  True\n",
      "  True False False  True False False  True False  True  True  True False\n",
      " False  True  True False False  True  True  True False  True False  True\n",
      " False False False False False False  True False False False  True  True\n",
      " False False False  True  True False  True  True False  True  True False\n",
      " False False  True  True False False False False False  True False False\n",
      " False  True False  True False False False False False False  True False\n",
      "  True  True  True False False  True False False  True  True  True  True\n",
      " False  True  True False False False False  True  True False  True  True\n",
      " False  True False  True  True  True  True False  True False False False\n",
      " False False  True False False False False  True  True False  True False\n",
      " False False  True False False False False False  True False  True False\n",
      "  True False False False  True False False False False False False False\n",
      " False False  True  True False False False  True False False False False\n",
      " False  True False False False False  True False False  True  True False\n",
      "  True False False False False  True False  True False False  True False\n",
      " False False False False  True False False False  True False  True  True\n",
      " False False False False False False False False False False False  True\n",
      "  True  True  True  True False  True False False False  True False False\n",
      " False False False False False False False  True False False False False\n",
      " False False False False False False False  True False  True  True False\n",
      "  True False False False False False False False  True  True False False]\n"
     ]
    }
   ],
   "source": [
    "from sklearn import linear_model as lm\n",
    "\n",
    "lam = 10**2\n",
    "\n",
    "sk_logreg = lm.LogisticRegression(C=np.abs(1/lam))\n",
    "sk_logreg.fit(X_train, Y_train)\n",
    "preds = sk_logreg.predict(X_test)\n",
    "print (preds == Y_test).mean()\n",
    "# Surpsingly(maybe not) good, very fast\n",
    "print preds"
   ]
  },
  {
   "cell_type": "markdown",
   "metadata": {},
   "source": [
    "# Ridge Regression "
   ]
  },
  {
   "cell_type": "code",
   "execution_count": 34,
   "metadata": {
    "collapsed": false
   },
   "outputs": [
    {
     "name": "stdout",
     "output_type": "stream",
     "text": [
      "0.726666666667\n",
      "[ True  True  True  True False False False  True False  True  True False\n",
      " False False False False False  True False False  True False  True  True\n",
      "  True  True  True  True  True  True  True False False  True  True  True\n",
      " False False  True False False False  True False False False  True  True\n",
      "  True False False  True False False  True False  True False  True False\n",
      " False  True  True False False  True  True  True False  True False  True\n",
      " False False False False False False  True False False False  True  True\n",
      " False False False  True  True False  True  True False  True  True False\n",
      " False False  True False False False False False False  True False False\n",
      " False  True False  True False False False False False False  True False\n",
      "  True  True  True False False  True False False  True  True  True  True\n",
      " False  True  True False False False False  True False False  True  True\n",
      " False  True False  True  True  True  True False  True False False False\n",
      " False False  True False False False False  True  True False  True False\n",
      " False False  True False False False False False  True False  True False\n",
      "  True False False False  True False False False False False False False\n",
      " False False  True  True False False False  True False False False False\n",
      " False  True False False False False  True False False  True  True False\n",
      "  True False False False False  True False  True False False  True False\n",
      " False False False False  True False False False  True False  True  True\n",
      " False False False False False False False False False False False  True\n",
      "  True  True  True  True False  True False False False  True False False\n",
      " False False False False False False False  True False False False False\n",
      " False False False False False False False  True False  True  True False\n",
      "  True False False False False False False False  True  True False False]\n"
     ]
    }
   ],
   "source": [
    "from sklearn.linear_model import Ridge as ri\n",
    "\n",
    "skRidge = ri()\n",
    "skRidge.fit(X_train, Y_train)\n",
    "preds = skRidge.predict(X_test) > .5\n",
    "print (preds == Y_test).mean()\n",
    "print preds"
   ]
  },
  {
   "cell_type": "markdown",
   "metadata": {},
   "source": [
    "# Gradient Boost "
   ]
  },
  {
   "cell_type": "code",
   "execution_count": 35,
   "metadata": {
    "collapsed": false
   },
   "outputs": [
    {
     "name": "stdout",
     "output_type": "stream",
     "text": [
      "0.583333333333\n",
      "[ True False False False False False False False False False False False\n",
      " False False False False False  True False False False False False  True\n",
      "  True  True  True  True  True  True False False  True  True  True False\n",
      " False False False False  True False  True False False False False False\n",
      "  True False False  True False False  True False  True  True False False\n",
      " False False  True False False  True False  True False False False False\n",
      " False False False False False False  True False False False  True  True\n",
      " False False False  True False False False False False  True False  True\n",
      " False False  True False False False False False False False  True False\n",
      "  True  True False  True False False False False False False  True False\n",
      "  True  True False False False False False False False False False False\n",
      " False False False False False False False False  True False  True False\n",
      "  True  True  True  True  True False  True False False False False False\n",
      "  True  True False False False False  True False  True  True  True False\n",
      " False  True False False False False False False False False False False\n",
      " False  True False  True False False False False False  True  True False\n",
      " False  True False False False False False  True False False  True  True\n",
      "  True  True False False False False  True False False False  True  True\n",
      " False False False False False  True False False False False False  True\n",
      " False False False False  True False False False  True False False  True\n",
      " False False False False False False False False False  True False False\n",
      " False  True  True False False  True False False False False  True  True\n",
      "  True False False False False False False  True False False  True False\n",
      " False False  True False  True False False False False  True  True False\n",
      "  True  True False False False False  True False False False False False]\n"
     ]
    }
   ],
   "source": [
    "from sklearn.ensemble import GradientBoostingClassifier as GBC\n",
    "\n",
    "gbc = GBC(max_leaf_nodes=200, min_weight_fraction_leaf=0.5,min_samples_split=54).fit(X_train,Y_train)\n",
    "preds = gbc.predict(X_test)\n",
    "print (preds == Y_test).mean()\n",
    "print preds\n",
    "\n",
    "# Fine tuning seems to have minimal effect"
   ]
  },
  {
   "cell_type": "markdown",
   "metadata": {},
   "source": [
    "# MLP"
   ]
  },
  {
   "cell_type": "code",
   "execution_count": 36,
   "metadata": {
    "collapsed": false
   },
   "outputs": [
    {
     "name": "stdout",
     "output_type": "stream",
     "text": [
      "0.7\n"
     ]
    }
   ],
   "source": [
    "from sklearn.neural_network import MLPClassifier as mlp\n",
    "\n",
    "gbm = mlp(solver=\"lbfgs\", activation='tanh', early_stopping=True).fit(X_train,Y_train)\n",
    "print (gbm.predict(X_test) == Y_test).mean()\n",
    "\n",
    "# Super slow, fine tuning doesnt seem to help much"
   ]
  },
  {
   "cell_type": "markdown",
   "metadata": {},
   "source": [
    "# Random Forests"
   ]
  },
  {
   "cell_type": "code",
   "execution_count": 37,
   "metadata": {
    "collapsed": false
   },
   "outputs": [
    {
     "name": "stdout",
     "output_type": "stream",
     "text": [
      "0.676666666667\n"
     ]
    }
   ],
   "source": [
    "from sklearn.ensemble import RandomForestClassifier as RFC\n",
    "\n",
    "rfc = RFC(min_samples_split=3, n_estimators =100).fit(X_train,Y_train)\n",
    "print (rfc.predict(X_test) == Y_test).mean()\n",
    "\n",
    "# Fine tuned parameters, this is the best I could get"
   ]
  },
  {
   "cell_type": "markdown",
   "metadata": {},
   "source": [
    "# Decision Tree"
   ]
  },
  {
   "cell_type": "code",
   "execution_count": 38,
   "metadata": {
    "collapsed": false
   },
   "outputs": [
    {
     "name": "stdout",
     "output_type": "stream",
     "text": [
      "0.636666666667\n",
      "[ True False  True False False False  True  True  True  True  True False\n",
      "  True  True  True False  True  True False  True  True False  True  True\n",
      "  True False  True False False False False  True False  True  True  True\n",
      " False  True False  True  True False  True False False False  True  True\n",
      "  True False False False  True  True  True False False  True  True False\n",
      " False  True  True False False False False  True False False False  True\n",
      " False False False False False False  True False False False False  True\n",
      " False False False  True False False False  True False  True  True False\n",
      " False False  True  True False False False False False False False False\n",
      " False  True  True  True False False False  True False  True False False\n",
      "  True False False False False  True False  True  True False False False\n",
      " False False False False  True False False  True  True False  True  True\n",
      " False False False  True  True False  True False False False  True False\n",
      " False False  True False  True False  True  True  True  True False  True\n",
      "  True False  True False False False False False  True False  True False\n",
      " False False False False False False  True  True False False False False\n",
      " False False  True False False  True  True  True False False False  True\n",
      " False  True False False False False  True False False  True  True False\n",
      "  True False False False False  True False False False False False False\n",
      " False False  True  True  True False False False False False  True False\n",
      " False  True False False False False False False False  True False  True\n",
      "  True  True False  True False False False  True  True  True False False\n",
      "  True False False False  True False False False  True False False False\n",
      " False False  True False  True False False False  True  True False False\n",
      "  True  True False False  True  True False  True  True  True False False]\n"
     ]
    }
   ],
   "source": [
    "from sklearn.tree import DecisionTreeClassifier as DTC\n",
    "\n",
    "dtc = DTC(criterion='entropy').fit(X_train,Y_train)\n",
    "preds = dtc.predict(X_test)\n",
    "print (preds == Y_test).mean()\n",
    "print preds"
   ]
  },
  {
   "cell_type": "markdown",
   "metadata": {},
   "source": [
    "# XGBoost"
   ]
  },
  {
   "cell_type": "code",
   "execution_count": 88,
   "metadata": {
    "collapsed": false
   },
   "outputs": [
    {
     "name": "stdout",
     "output_type": "stream",
     "text": [
      "0.62\n",
      "[ True  True False False False False False False False False False False\n",
      " False False False False False  True False False False False  True  True\n",
      "  True  True  True  True  True False False False  True  True False  True\n",
      " False False  True  True  True False False False False False False  True\n",
      "  True False False  True False False  True False  True  True  True False\n",
      " False  True False False False False  True  True False  True False False\n",
      " False False False False False False  True  True False False  True  True\n",
      " False False False  True  True False False False False False False  True\n",
      " False False  True  True False False False False  True False  True False\n",
      " False  True False  True False False False False False False False False\n",
      "  True  True False False False  True False False  True False False  True\n",
      " False False  True False False False False False  True  True  True False\n",
      "  True  True  True  True  True False  True False False  True False False\n",
      "  True  True  True False False False False  True  True  True  True False\n",
      "  True  True False False False False False False  True False False False\n",
      " False  True False  True False False  True False False  True  True  True\n",
      " False  True  True  True False False False  True False False  True  True\n",
      "  True  True False False False False False False False False  True False\n",
      "  True False False False False False False  True False False False  True\n",
      " False False False False  True False False  True  True False False  True\n",
      " False False False False False False False False False False False False\n",
      " False  True False  True False  True  True False False False False  True\n",
      "  True False False  True False  True False  True False False  True False\n",
      " False False  True False False False  True False  True  True  True False\n",
      "  True False False False False  True  True False  True  True False False]\n"
     ]
    }
   ],
   "source": [
    "import xgboost as xgb\n",
    "dtrain = xgb.DMatrix(X_train, Y_train)\n",
    "dtest = xgb.DMatrix(X_test)\n",
    "\n",
    "bst = xgb.train({}, dtrain)\n",
    "preds = bst.predict(dtest) > .5\n",
    "print (preds == Y_test).mean()\n",
    "print preds\n"
   ]
  },
  {
   "cell_type": "markdown",
   "metadata": {
    "collapsed": true
   },
   "source": [
    "# Algorithms we chose not to use"
   ]
  },
  {
   "cell_type": "markdown",
   "metadata": {
    "collapsed": true
   },
   "source": [
    "### Nearest neighbor\n",
    "\n",
    "Due to the fact that we are not performing any kind of cluster analysis, we have decided the NN-classifying and NN-regression algorithms are not useful. "
   ]
  },
  {
   "cell_type": "markdown",
   "metadata": {},
   "source": [
    "### Gaussian discriminant analysis\n",
    "\n",
    "Similar to the issues with nearest neighbor, since we are not doing any kind of classification, GDA will not be useful with our data set or our project."
   ]
  },
  {
   "cell_type": "markdown",
   "metadata": {},
   "source": [
    "### Mixture models with latent variables (train with EM)\n",
    "\n",
    "Because there is not an unknown distribution in our dataset, mixture models along with EM will not work with our data set.\n"
   ]
  },
  {
   "cell_type": "markdown",
   "metadata": {},
   "source": [
    "### Kalman Filters\n",
    "\n",
    "Our data is not a true time series because we are not interested in how teams' overall performances changes over time. Games are decided strictly by winners and losers, so there is not any measurable error or noise. Because of this we have determined that it will not be useful in our methods. "
   ]
  },
  {
   "cell_type": "markdown",
   "metadata": {},
   "source": [
    "### AR, MA, ARMA, ARIMA time series models\n",
    "\n",
    "Because these models are trying to describe certain time-varying processes of a time series, they will not be helpful in trying to predict wins and losses of specific games. "
   ]
  },
  {
   "cell_type": "code",
   "execution_count": null,
   "metadata": {
    "collapsed": true
   },
   "outputs": [],
   "source": []
  }
 ],
 "metadata": {
  "kernelspec": {
   "display_name": "Python 2",
   "language": "python",
   "name": "python2"
  },
  "language_info": {
   "codemirror_mode": {
    "name": "ipython",
    "version": 2
   },
   "file_extension": ".py",
   "mimetype": "text/x-python",
   "name": "python",
   "nbconvert_exporter": "python",
   "pygments_lexer": "ipython2",
   "version": "2.7.13"
  }
 },
 "nbformat": 4,
 "nbformat_minor": 2
}
