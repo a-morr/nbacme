{
 "cells": [
  {
   "cell_type": "code",
   "execution_count": 47,
   "metadata": {
    "collapsed": true
   },
   "outputs": [],
   "source": [
    "import numpy as np\n",
    "import pandas as pd\n",
    "from elo import *\n",
    "import datetime as dt\n",
    "import kristaps"
   ]
  },
  {
   "cell_type": "code",
   "execution_count": 2,
   "metadata": {
    "collapsed": false
   },
   "outputs": [
    {
     "name": "stdout",
     "output_type": "stream",
     "text": [
      "Index([u'Unnamed: 0', u'fran_id', u'pts', u'opp_fran', u'opp_pts',\n",
      "       u'game_location', u'month', u'day', u'year'],\n",
      "      dtype='object')\n"
     ]
    }
   ],
   "source": [
    "# data = pd.read_csv('../data/elo_1946-2015.csv')\n",
    "data = pd.read_csv('../data/historical_data.csv')\n",
    "print data.columns"
   ]
  },
  {
   "cell_type": "code",
   "execution_count": null,
   "metadata": {
    "collapsed": false
   },
   "outputs": [],
   "source": [
    "print list(data)\n",
    "# The current state of the NBA has 30 franchises. \n",
    "new_data = data[data['year_id']>=1977]\n",
    "#print len(np.unique(new_data['fran_id']))\n",
    "\n",
    "# Get rid of duplicate rows and keep important variables\n",
    "new_data = new_data[new_data['_iscopy'] == 1] [['fran_id','pts','opp_fran','opp_pts','game_location']]"
   ]
  },
  {
   "cell_type": "code",
   "execution_count": 3,
   "metadata": {
    "collapsed": true
   },
   "outputs": [],
   "source": [
    "def train(data):\n",
    "    \"\"\"\n",
    "    \"\"\"\n",
    "    # Initialize score\n",
    "    teams = np.unique(data['fran_id'])\n",
    "    team_elo = dict(zip(teams,[1500]*len(teams)))\n",
    "    for i in range(len(data)):\n",
    "        row = data.iloc[i]\n",
    "        RA = team_elo[row['fran_id']]\n",
    "        RB = team_elo[row['opp_fran']]\n",
    "        team_elo[row['fran_id']], team_elo[row['opp_fran']] = update_elo_ratings(RA,RB,row['pts']>row['opp_pts'],row['pts']<row['opp_pts'])\n",
    "    return team_elo"
   ]
  },
  {
   "cell_type": "code",
   "execution_count": 44,
   "metadata": {
    "collapsed": false
   },
   "outputs": [],
   "source": [
    "kristaps\n",
    "team_elo = train(data)"
   ]
  },
  {
   "cell_type": "code",
   "execution_count": null,
   "metadata": {
    "collapsed": false
   },
   "outputs": [],
   "source": [
    "indices = np.argsort(team_elo.values())\n",
    "print np.array(team_elo.keys())[indices]"
   ]
  },
  {
   "cell_type": "code",
   "execution_count": null,
   "metadata": {
    "collapsed": true
   },
   "outputs": [],
   "source": [
    "def simulate_games(future_games, n):\n",
    "    teams = np.unique(future_games['fran_id'])\n",
    "#     elo_dict = dict(zip(teams,[1500]*len(teams)))\n",
    "    \n",
    "    game_scores = np.zeros(len(future_games))\n",
    "    \n",
    "    for it in range(n):\n",
    "        elo_dict = team_elo.copy()\n",
    "        for i in range(len(future_games)):\n",
    "            \n",
    "            game = future_games.iloc[i]\n",
    "            A = game['fran_id']\n",
    "            B = game['opp_fran']\n",
    "            \n",
    "            rA = elo_dict[A]\n",
    "            rB = elo_dict[B]\n",
    "            \n",
    "            pA, pB = predict_score(rA, rB)\n",
    "            winner = np.random.choice([A, B], p=[pA, pB])\n",
    "            \n",
    "            A_score = 1 if winner == A else 0\n",
    "            B_score = A_score - 1\n",
    "            \n",
    "#             rA, rB = update_elo_ratings(rA, rB, A_score, B_score)\n",
    "            game_scores[i] += A_score\n",
    "#             elo_dict[A] = rA\n",
    "#             elo_dict[B] = rB\n",
    "            \n",
    "    A_probs = game_scores / float(n)\n",
    "    return A_probs, 1 - A_probs\n",
    "            \n",
    "            "
   ]
  },
  {
   "cell_type": "code",
   "execution_count": null,
   "metadata": {
    "collapsed": false
   },
   "outputs": [],
   "source": [
    "test = new_data.iloc[-300:]"
   ]
  },
  {
   "cell_type": "code",
   "execution_count": null,
   "metadata": {
    "collapsed": false
   },
   "outputs": [],
   "source": [
    "Aprobs, Bprobs = simulate_games(data, 500)"
   ]
  },
  {
   "cell_type": "code",
   "execution_count": null,
   "metadata": {
    "collapsed": false
   },
   "outputs": [],
   "source": [
    "def check(Aprobs, Bprobs, info):\n",
    "    correct = 0.\n",
    "    for i in range(len(Aprobs)):\n",
    "        truth = np.argmax([info.iloc[i]['pts'], info.iloc[i]['opp_pts']])\n",
    "        pred = np.argmax([Aprobs[i], Bprobs[i]])\n",
    "        correct += (truth == pred)\n",
    "#         if truth != pred: print i\n",
    "    return correct / len(Aprobs)\n",
    "    "
   ]
  },
  {
   "cell_type": "code",
   "execution_count": null,
   "metadata": {
    "collapsed": false
   },
   "outputs": [],
   "source": [
    "check(Aprobs, Bprobs, new_data.iloc[-300:])"
   ]
  },
  {
   "cell_type": "code",
   "execution_count": null,
   "metadata": {
    "collapsed": false
   },
   "outputs": [],
   "source": [
    "def look(i):\n",
    "    print Aprobs[i], Bprobs[i]\n",
    "    print test.iloc[i]"
   ]
  },
  {
   "cell_type": "code",
   "execution_count": null,
   "metadata": {
    "collapsed": false
   },
   "outputs": [],
   "source": [
    "look(297)"
   ]
  },
  {
   "cell_type": "code",
   "execution_count": 5,
   "metadata": {
    "collapsed": false
   },
   "outputs": [
    {
     "name": "stdout",
     "output_type": "stream",
     "text": [
      "{'Knicks': 1293.1661291062237, 'Thunder': 1576.3191986848963, 'Hawks': 1588.46863185435, 'Wizards': 1538.747786392935, 'Nuggets': 1410.0801729517939, 'Hornets': 1403.1970130062732, 'Cavaliers': 1677.4738131793915, 'Jazz': 1509.7126132191113, 'Timberwolves': 1286.9902577306584, 'Clippers': 1673.022950499136, 'Bulls': 1554.396979001828, 'Heat': 1465.83690736018, 'Warriors': 1785.9341603863936, 'Celtics': 1495.5257561632529, 'Magic': 1321.9175826961464, 'Mavericks': 1569.6434853174087, 'Pelicans': 1533.4748047539845, 'Trailblazers': 1542.6911988150837, 'Lakers': 1305.8327633362787, 'Pacers': 1511.2999545785874, 'Rockets': 1669.297610202211, 'Bucks': 1450.9339708001241, 'Raptors': 1486.6600998818062, 'Spurs': 1681.546686734531, 'Pistons': 1418.0759254912289, 'Grizzlies': 1637.2081296587521, 'Suns': 1477.2205075790412, 'Kings': 1380.2277639233951, 'Sixers': 1255.2783296484656, 'Nets': 1499.8188170465321}\n"
     ]
    }
   ],
   "source": [
    "print team_elo"
   ]
  },
  {
   "cell_type": "code",
   "execution_count": 8,
   "metadata": {
    "collapsed": false
   },
   "outputs": [
    {
     "data": {
      "text/plain": [
       "(0.3119805079000747, 0.6880194920999253)"
      ]
     },
     "execution_count": 8,
     "metadata": {},
     "output_type": "execute_result"
    }
   ],
   "source": [
    "predict_score(team_elo['Nets'], team_elo['Grizzlies'])"
   ]
  },
  {
   "cell_type": "code",
   "execution_count": 48,
   "metadata": {
    "collapsed": false
   },
   "outputs": [],
   "source": [
    "def predict_tomorrow(filename='../data/upcoming_games.csv'):\n",
    "    df = pd.read_csv(filename)\n",
    "    today = dt.datetime.today()\n",
    "    df = df[(df['month']==today.month) & (df['day']==today.day) & (df['year']==today.year)]\n",
    "    \n",
    "    preds = []\n",
    "    for i in range(len(df)):\n",
    "        elo_A = team_elo[df.iloc[i]['fran_id']]\n",
    "        elo_B = team_elo[df.iloc[i]['opp_fran']]\n",
    "        \n",
    "        \n",
    "        sc = predict_score(elo_A - 46, elo_B + 46)\n",
    "        preds.append([df.iloc[i]['fran_id'], df.iloc[i]['opp_fran'], sc[0], sc[1]])\n",
    "    \n",
    "    table = pd.DataFrame(preds, columns=['fran_id', 'opp_fran', 'prob', 'opp_prob'])\n",
    "    \n",
    "    df.to_csv('tomorrow.csv', index=None)\n",
    "    \n",
    "    return table\n",
    "    \n",
    "        "
   ]
  },
  {
   "cell_type": "code",
   "execution_count": 49,
   "metadata": {
    "collapsed": false
   },
   "outputs": [
    {
     "data": {
      "text/html": [
       "<div>\n",
       "<table border=\"1\" class=\"dataframe\">\n",
       "  <thead>\n",
       "    <tr style=\"text-align: right;\">\n",
       "      <th></th>\n",
       "      <th>fran_id</th>\n",
       "      <th>opp_fran</th>\n",
       "      <th>prob</th>\n",
       "      <th>opp_prob</th>\n",
       "    </tr>\n",
       "  </thead>\n",
       "  <tbody>\n",
       "    <tr>\n",
       "      <th>0</th>\n",
       "      <td>Warriors</td>\n",
       "      <td>Hawks</td>\n",
       "      <td>0.647281</td>\n",
       "      <td>0.352719</td>\n",
       "    </tr>\n",
       "    <tr>\n",
       "      <th>1</th>\n",
       "      <td>Pacers</td>\n",
       "      <td>Hornets</td>\n",
       "      <td>0.523157</td>\n",
       "      <td>0.476843</td>\n",
       "    </tr>\n",
       "    <tr>\n",
       "      <th>2</th>\n",
       "      <td>Heat</td>\n",
       "      <td>Cavaliers</td>\n",
       "      <td>0.148315</td>\n",
       "      <td>0.851685</td>\n",
       "    </tr>\n",
       "    <tr>\n",
       "      <th>3</th>\n",
       "      <td>Kings</td>\n",
       "      <td>Nuggets</td>\n",
       "      <td>0.331493</td>\n",
       "      <td>0.668507</td>\n",
       "    </tr>\n",
       "    <tr>\n",
       "      <th>4</th>\n",
       "      <td>Bulls</td>\n",
       "      <td>Pistons</td>\n",
       "      <td>0.563439</td>\n",
       "      <td>0.436561</td>\n",
       "    </tr>\n",
       "    <tr>\n",
       "      <th>5</th>\n",
       "      <td>Celtics</td>\n",
       "      <td>Clippers</td>\n",
       "      <td>0.174891</td>\n",
       "      <td>0.825109</td>\n",
       "    </tr>\n",
       "    <tr>\n",
       "      <th>6</th>\n",
       "      <td>Nets</td>\n",
       "      <td>Grizzlies</td>\n",
       "      <td>0.210740</td>\n",
       "      <td>0.789260</td>\n",
       "    </tr>\n",
       "    <tr>\n",
       "      <th>7</th>\n",
       "      <td>Trailblazers</td>\n",
       "      <td>Timberwolves</td>\n",
       "      <td>0.719572</td>\n",
       "      <td>0.280428</td>\n",
       "    </tr>\n",
       "    <tr>\n",
       "      <th>8</th>\n",
       "      <td>Knicks</td>\n",
       "      <td>Magic</td>\n",
       "      <td>0.332899</td>\n",
       "      <td>0.667101</td>\n",
       "    </tr>\n",
       "    <tr>\n",
       "      <th>9</th>\n",
       "      <td>Bucks</td>\n",
       "      <td>Sixers</td>\n",
       "      <td>0.644899</td>\n",
       "      <td>0.355101</td>\n",
       "    </tr>\n",
       "    <tr>\n",
       "      <th>10</th>\n",
       "      <td>Rockets</td>\n",
       "      <td>Spurs</td>\n",
       "      <td>0.354319</td>\n",
       "      <td>0.645681</td>\n",
       "    </tr>\n",
       "    <tr>\n",
       "      <th>11</th>\n",
       "      <td>Pelicans</td>\n",
       "      <td>Jazz</td>\n",
       "      <td>0.403041</td>\n",
       "      <td>0.596959</td>\n",
       "    </tr>\n",
       "  </tbody>\n",
       "</table>\n",
       "</div>"
      ],
      "text/plain": [
       "         fran_id      opp_fran      prob  opp_prob\n",
       "0       Warriors         Hawks  0.647281  0.352719\n",
       "1         Pacers       Hornets  0.523157  0.476843\n",
       "2           Heat     Cavaliers  0.148315  0.851685\n",
       "3          Kings       Nuggets  0.331493  0.668507\n",
       "4          Bulls       Pistons  0.563439  0.436561\n",
       "5        Celtics      Clippers  0.174891  0.825109\n",
       "6           Nets     Grizzlies  0.210740  0.789260\n",
       "7   Trailblazers  Timberwolves  0.719572  0.280428\n",
       "8         Knicks         Magic  0.332899  0.667101\n",
       "9          Bucks        Sixers  0.644899  0.355101\n",
       "10       Rockets         Spurs  0.354319  0.645681\n",
       "11      Pelicans          Jazz  0.403041  0.596959"
      ]
     },
     "execution_count": 49,
     "metadata": {},
     "output_type": "execute_result"
    }
   ],
   "source": [
    "predict_tomorrow()"
   ]
  },
  {
   "cell_type": "code",
   "execution_count": 21,
   "metadata": {
    "collapsed": false
   },
   "outputs": [
    {
     "data": {
      "text/plain": [
       "6"
      ]
     },
     "execution_count": 21,
     "metadata": {},
     "output_type": "execute_result"
    }
   ],
   "source": [
    "d.day"
   ]
  },
  {
   "cell_type": "code",
   "execution_count": null,
   "metadata": {
    "collapsed": true
   },
   "outputs": [],
   "source": []
  }
 ],
 "metadata": {
  "anaconda-cloud": {},
  "kernelspec": {
<<<<<<< HEAD
   "display_name": "Python [default]",
=======
   "display_name": "Python [Root]",
>>>>>>> 2b90f46440326275f272f2f660e9aa8479940857
   "language": "python",
   "name": "Python [Root]"
  },
  "language_info": {
   "codemirror_mode": {
    "name": "ipython",
    "version": 2
   },
   "file_extension": ".py",
   "mimetype": "text/x-python",
   "name": "python",
   "nbconvert_exporter": "python",
   "pygments_lexer": "ipython2",
   "version": "2.7.12"
  }
 },
 "nbformat": 4,
 "nbformat_minor": 0
}
