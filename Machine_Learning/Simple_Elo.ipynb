{
 "cells": [
  {
   "cell_type": "markdown",
   "metadata": {},
   "source": [
    "# Simple Elo\n",
    "A demonstration of the usage of the kristaps class."
   ]
  },
  {
   "cell_type": "code",
   "execution_count": 186,
   "metadata": {
    "collapsed": false
   },
   "outputs": [
    {
     "data": {
      "text/plain": [
       "<module 'kristaps' from 'kristaps.py'>"
      ]
     },
     "execution_count": 186,
     "metadata": {},
     "output_type": "execute_result"
    }
   ],
   "source": [
    "import numpy as np\n",
    "import pandas as pd\n",
    "from elo import *\n",
    "import datetime as dt\n",
    "import kristaps\n",
    "reload(kristaps)"
   ]
  },
  {
   "cell_type": "markdown",
   "metadata": {},
   "source": [
    "Import historical game data"
   ]
  },
  {
   "cell_type": "code",
   "execution_count": 45,
   "metadata": {
    "collapsed": false
   },
   "outputs": [],
   "source": [
    "data = pd.read_csv('../data/historical_data.csv')"
   ]
  },
  {
   "cell_type": "markdown",
   "metadata": {},
   "source": [
    "### Predict 300 past games\n",
    "\n",
    "Creat Kristaps object and train on all but the most recent 300 games.\n",
    "The training function updates elo ratings based on games that each team won and lost."
   ]
  },
  {
   "cell_type": "code",
   "execution_count": 27,
   "metadata": {
    "collapsed": false
   },
   "outputs": [],
   "source": [
    "K = kristaps.Kristaps() # Initializes all elo ratings to 1500 \n",
    "K.train_all(data.iloc[:-300], write=0) # Train but don't save elo to pickle file"
   ]
  },
  {
   "cell_type": "markdown",
   "metadata": {},
   "source": [
    "Estimate outcome of the most recent 300 games based on the trained elo ratings.  Average of 500 simulations."
   ]
  },
  {
   "cell_type": "code",
   "execution_count": 8,
   "metadata": {
    "collapsed": false
   },
   "outputs": [],
   "source": [
    "Aprobs, Bprobs = K.simulate_games(data[-300:], 500)"
   ]
  },
  {
   "cell_type": "markdown",
   "metadata": {},
   "source": [
    "Check our predictions against actual outcomes; get percent correct."
   ]
  },
  {
   "cell_type": "code",
   "execution_count": 9,
   "metadata": {
    "collapsed": false
   },
   "outputs": [
    {
     "data": {
      "text/plain": [
       "0.68666666666666665"
      ]
     },
     "execution_count": 9,
     "metadata": {},
     "output_type": "execute_result"
    }
   ],
   "source": [
    "K.check(Aprobs, Bprobs, data.iloc[-300:])"
   ]
  },
  {
   "cell_type": "markdown",
   "metadata": {},
   "source": [
    "### Predict today's games"
   ]
  },
  {
   "cell_type": "code",
   "execution_count": 187,
   "metadata": {
    "collapsed": false
   },
   "outputs": [
    {
     "data": {
      "text/html": [
       "<div>\n",
       "<table border=\"1\" class=\"dataframe\">\n",
       "  <thead>\n",
       "    <tr style=\"text-align: right;\">\n",
       "      <th></th>\n",
       "      <th>fran_id</th>\n",
       "      <th>opp_fran</th>\n",
       "      <th>prob</th>\n",
       "      <th>opp_prob</th>\n",
       "    </tr>\n",
       "  </thead>\n",
       "  <tbody>\n",
       "    <tr>\n",
       "      <th>0</th>\n",
       "      <td>Raptors</td>\n",
       "      <td>Hawks</td>\n",
       "      <td>45</td>\n",
       "      <td>55</td>\n",
       "    </tr>\n",
       "    <tr>\n",
       "      <th>1</th>\n",
       "      <td>Rockets</td>\n",
       "      <td>Bulls</td>\n",
       "      <td>24</td>\n",
       "      <td>76</td>\n",
       "    </tr>\n",
       "    <tr>\n",
       "      <th>2</th>\n",
       "      <td>Magic</td>\n",
       "      <td>Hornets</td>\n",
       "      <td>52</td>\n",
       "      <td>48</td>\n",
       "    </tr>\n",
       "    <tr>\n",
       "      <th>3</th>\n",
       "      <td>Nets</td>\n",
       "      <td>Mavericks</td>\n",
       "      <td>30</td>\n",
       "      <td>70</td>\n",
       "    </tr>\n",
       "    <tr>\n",
       "      <th>4</th>\n",
       "      <td>Celtics</td>\n",
       "      <td>Nuggets</td>\n",
       "      <td>39</td>\n",
       "      <td>61</td>\n",
       "    </tr>\n",
       "    <tr>\n",
       "      <th>5</th>\n",
       "      <td>Pacers</td>\n",
       "      <td>Bucks</td>\n",
       "      <td>49</td>\n",
       "      <td>51</td>\n",
       "    </tr>\n",
       "    <tr>\n",
       "      <th>6</th>\n",
       "      <td>Warriors</td>\n",
       "      <td>Timberwolves</td>\n",
       "      <td>52</td>\n",
       "      <td>48</td>\n",
       "    </tr>\n",
       "    <tr>\n",
       "      <th>7</th>\n",
       "      <td>Wizards</td>\n",
       "      <td>Kings</td>\n",
       "      <td>34</td>\n",
       "      <td>66</td>\n",
       "    </tr>\n",
       "  </tbody>\n",
       "</table>\n",
       "</div>"
      ],
      "text/plain": [
       "    fran_id      opp_fran  prob  opp_prob\n",
       "0   Raptors         Hawks    45        55\n",
       "1   Rockets         Bulls    24        76\n",
       "2     Magic       Hornets    52        48\n",
       "3      Nets     Mavericks    30        70\n",
       "4   Celtics       Nuggets    39        61\n",
       "5    Pacers         Bucks    49        51\n",
       "6  Warriors  Timberwolves    52        48\n",
       "7   Wizards         Kings    34        66"
      ]
     },
     "execution_count": 187,
     "metadata": {},
     "output_type": "execute_result"
    }
   ],
   "source": [
    "# Create new model based on pre-trained elo dict\n",
    "# BE AWARE that running this cell will recalculate elo ratings based on yesterday's games and SAVE them to the pickle file.\n",
    "\n",
    "K2 = kristaps.Kristaps('elo_dict.p')\n",
    "K2.train_yesterday(write=1)\n",
    "K2.predict_today()"
   ]
  },
  {
   "cell_type": "markdown",
   "metadata": {},
   "source": [
    "### Predict win/loss over season"
   ]
  },
  {
   "cell_type": "code",
   "execution_count": 50,
   "metadata": {
    "collapsed": false
   },
   "outputs": [
    {
     "data": {
      "text/html": [
       "<div>\n",
       "<table border=\"1\" class=\"dataframe\">\n",
       "  <thead>\n",
       "    <tr style=\"text-align: right;\">\n",
       "      <th></th>\n",
       "      <th>Projected L</th>\n",
       "      <th>Projected W</th>\n",
       "      <th>elo</th>\n",
       "      <th>fran_id</th>\n",
       "    </tr>\n",
       "  </thead>\n",
       "  <tbody>\n",
       "    <tr>\n",
       "      <th>28</th>\n",
       "      <td>15.0</td>\n",
       "      <td>67.0</td>\n",
       "      <td>1770.075218</td>\n",
       "      <td>Warriors</td>\n",
       "    </tr>\n",
       "    <tr>\n",
       "      <th>23</th>\n",
       "      <td>18.0</td>\n",
       "      <td>64.0</td>\n",
       "      <td>1719.168956</td>\n",
       "      <td>Spurs</td>\n",
       "    </tr>\n",
       "    <tr>\n",
       "      <th>2</th>\n",
       "      <td>26.0</td>\n",
       "      <td>56.0</td>\n",
       "      <td>1645.724021</td>\n",
       "      <td>Cavaliers</td>\n",
       "    </tr>\n",
       "    <tr>\n",
       "      <th>21</th>\n",
       "      <td>26.0</td>\n",
       "      <td>56.0</td>\n",
       "      <td>1618.636284</td>\n",
       "      <td>Rockets</td>\n",
       "    </tr>\n",
       "    <tr>\n",
       "      <th>29</th>\n",
       "      <td>32.0</td>\n",
       "      <td>50.0</td>\n",
       "      <td>1598.583197</td>\n",
       "      <td>Wizards</td>\n",
       "    </tr>\n",
       "    <tr>\n",
       "      <th>3</th>\n",
       "      <td>29.0</td>\n",
       "      <td>53.0</td>\n",
       "      <td>1597.802128</td>\n",
       "      <td>Celtics</td>\n",
       "    </tr>\n",
       "    <tr>\n",
       "      <th>4</th>\n",
       "      <td>33.0</td>\n",
       "      <td>49.0</td>\n",
       "      <td>1564.887992</td>\n",
       "      <td>Clippers</td>\n",
       "    </tr>\n",
       "    <tr>\n",
       "      <th>25</th>\n",
       "      <td>36.0</td>\n",
       "      <td>46.0</td>\n",
       "      <td>1563.508779</td>\n",
       "      <td>Thunder</td>\n",
       "    </tr>\n",
       "    <tr>\n",
       "      <th>9</th>\n",
       "      <td>33.0</td>\n",
       "      <td>49.0</td>\n",
       "      <td>1561.947696</td>\n",
       "      <td>Jazz</td>\n",
       "    </tr>\n",
       "    <tr>\n",
       "      <th>20</th>\n",
       "      <td>34.0</td>\n",
       "      <td>48.0</td>\n",
       "      <td>1542.886547</td>\n",
       "      <td>Raptors</td>\n",
       "    </tr>\n",
       "    <tr>\n",
       "      <th>5</th>\n",
       "      <td>36.0</td>\n",
       "      <td>46.0</td>\n",
       "      <td>1534.076443</td>\n",
       "      <td>Grizzlies</td>\n",
       "    </tr>\n",
       "    <tr>\n",
       "      <th>6</th>\n",
       "      <td>37.0</td>\n",
       "      <td>45.0</td>\n",
       "      <td>1524.446131</td>\n",
       "      <td>Hawks</td>\n",
       "    </tr>\n",
       "    <tr>\n",
       "      <th>17</th>\n",
       "      <td>39.0</td>\n",
       "      <td>43.0</td>\n",
       "      <td>1522.553770</td>\n",
       "      <td>Pacers</td>\n",
       "    </tr>\n",
       "    <tr>\n",
       "      <th>7</th>\n",
       "      <td>43.0</td>\n",
       "      <td>39.0</td>\n",
       "      <td>1522.068192</td>\n",
       "      <td>Heat</td>\n",
       "    </tr>\n",
       "    <tr>\n",
       "      <th>1</th>\n",
       "      <td>39.0</td>\n",
       "      <td>43.0</td>\n",
       "      <td>1508.745804</td>\n",
       "      <td>Bulls</td>\n",
       "    </tr>\n",
       "    <tr>\n",
       "      <th>14</th>\n",
       "      <td>45.0</td>\n",
       "      <td>37.0</td>\n",
       "      <td>1499.901588</td>\n",
       "      <td>Mavericks</td>\n",
       "    </tr>\n",
       "    <tr>\n",
       "      <th>19</th>\n",
       "      <td>42.0</td>\n",
       "      <td>40.0</td>\n",
       "      <td>1497.831185</td>\n",
       "      <td>Pistons</td>\n",
       "    </tr>\n",
       "    <tr>\n",
       "      <th>27</th>\n",
       "      <td>46.0</td>\n",
       "      <td>36.0</td>\n",
       "      <td>1481.092925</td>\n",
       "      <td>Trailblazers</td>\n",
       "    </tr>\n",
       "    <tr>\n",
       "      <th>16</th>\n",
       "      <td>45.0</td>\n",
       "      <td>37.0</td>\n",
       "      <td>1460.054304</td>\n",
       "      <td>Nuggets</td>\n",
       "    </tr>\n",
       "    <tr>\n",
       "      <th>26</th>\n",
       "      <td>49.0</td>\n",
       "      <td>33.0</td>\n",
       "      <td>1457.765419</td>\n",
       "      <td>Timberwolves</td>\n",
       "    </tr>\n",
       "    <tr>\n",
       "      <th>0</th>\n",
       "      <td>45.0</td>\n",
       "      <td>37.0</td>\n",
       "      <td>1450.500270</td>\n",
       "      <td>Bucks</td>\n",
       "    </tr>\n",
       "    <tr>\n",
       "      <th>18</th>\n",
       "      <td>49.0</td>\n",
       "      <td>33.0</td>\n",
       "      <td>1437.492239</td>\n",
       "      <td>Pelicans</td>\n",
       "    </tr>\n",
       "    <tr>\n",
       "      <th>8</th>\n",
       "      <td>47.0</td>\n",
       "      <td>35.0</td>\n",
       "      <td>1433.723774</td>\n",
       "      <td>Hornets</td>\n",
       "    </tr>\n",
       "    <tr>\n",
       "      <th>10</th>\n",
       "      <td>50.0</td>\n",
       "      <td>32.0</td>\n",
       "      <td>1424.788093</td>\n",
       "      <td>Kings</td>\n",
       "    </tr>\n",
       "    <tr>\n",
       "      <th>13</th>\n",
       "      <td>51.0</td>\n",
       "      <td>31.0</td>\n",
       "      <td>1390.601536</td>\n",
       "      <td>Magic</td>\n",
       "    </tr>\n",
       "    <tr>\n",
       "      <th>11</th>\n",
       "      <td>50.0</td>\n",
       "      <td>32.0</td>\n",
       "      <td>1386.518111</td>\n",
       "      <td>Knicks</td>\n",
       "    </tr>\n",
       "    <tr>\n",
       "      <th>24</th>\n",
       "      <td>55.0</td>\n",
       "      <td>27.0</td>\n",
       "      <td>1382.295781</td>\n",
       "      <td>Suns</td>\n",
       "    </tr>\n",
       "    <tr>\n",
       "      <th>22</th>\n",
       "      <td>52.0</td>\n",
       "      <td>30.0</td>\n",
       "      <td>1368.745220</td>\n",
       "      <td>Sixers</td>\n",
       "    </tr>\n",
       "    <tr>\n",
       "      <th>12</th>\n",
       "      <td>58.0</td>\n",
       "      <td>24.0</td>\n",
       "      <td>1305.259258</td>\n",
       "      <td>Lakers</td>\n",
       "    </tr>\n",
       "    <tr>\n",
       "      <th>15</th>\n",
       "      <td>68.0</td>\n",
       "      <td>14.0</td>\n",
       "      <td>1228.319138</td>\n",
       "      <td>Nets</td>\n",
       "    </tr>\n",
       "  </tbody>\n",
       "</table>\n",
       "</div>"
      ],
      "text/plain": [
       "    Projected L  Projected W          elo       fran_id\n",
       "28         15.0         67.0  1770.075218      Warriors\n",
       "23         18.0         64.0  1719.168956         Spurs\n",
       "2          26.0         56.0  1645.724021     Cavaliers\n",
       "21         26.0         56.0  1618.636284       Rockets\n",
       "29         32.0         50.0  1598.583197       Wizards\n",
       "3          29.0         53.0  1597.802128       Celtics\n",
       "4          33.0         49.0  1564.887992      Clippers\n",
       "25         36.0         46.0  1563.508779       Thunder\n",
       "9          33.0         49.0  1561.947696          Jazz\n",
       "20         34.0         48.0  1542.886547       Raptors\n",
       "5          36.0         46.0  1534.076443     Grizzlies\n",
       "6          37.0         45.0  1524.446131         Hawks\n",
       "17         39.0         43.0  1522.553770        Pacers\n",
       "7          43.0         39.0  1522.068192          Heat\n",
       "1          39.0         43.0  1508.745804         Bulls\n",
       "14         45.0         37.0  1499.901588     Mavericks\n",
       "19         42.0         40.0  1497.831185       Pistons\n",
       "27         46.0         36.0  1481.092925  Trailblazers\n",
       "16         45.0         37.0  1460.054304       Nuggets\n",
       "26         49.0         33.0  1457.765419  Timberwolves\n",
       "0          45.0         37.0  1450.500270         Bucks\n",
       "18         49.0         33.0  1437.492239      Pelicans\n",
       "8          47.0         35.0  1433.723774       Hornets\n",
       "10         50.0         32.0  1424.788093         Kings\n",
       "13         51.0         31.0  1390.601536         Magic\n",
       "11         50.0         32.0  1386.518111        Knicks\n",
       "24         55.0         27.0  1382.295781          Suns\n",
       "22         52.0         30.0  1368.745220        Sixers\n",
       "12         58.0         24.0  1305.259258        Lakers\n",
       "15         68.0         14.0  1228.319138          Nets"
      ]
     },
     "execution_count": 50,
     "metadata": {},
     "output_type": "execute_result"
    }
   ],
   "source": [
    "K2.simulate_seasons()"
   ]
  },
  {
   "cell_type": "code",
   "execution_count": 180,
   "metadata": {
    "collapsed": false
   },
   "outputs": [],
   "source": [
    "\n",
    "us = pd.read_csv('../data/tomorrow.csv')\n",
    "five38 = pd.read_csv('../data/pred_538.csv')\n",
    "del five38['date']\n",
    "del five38['fran_city']\n",
    "del five38['opp_city']\n",
    "five38.sort_values('fran', inplace=True)\n",
    "us.sort_values('fran_id', inplace=True)\n",
    "five38.index = us.index\n",
    "newd = pd.concat([us, five38],axis=1, join_axes=[us.index])\n",
    "del newd['fran']\n",
    "del newd['opp']\n",
    "newd.columns = ['fran_id', 'opp_fran','Our prob', 'Our opp prob', '538 prob', '538 opp prob', '538 spread']\n"
   ]
  },
  {
   "cell_type": "code",
   "execution_count": 188,
   "metadata": {
    "collapsed": false,
    "scrolled": true
   },
   "outputs": [
    {
     "ename": "IOError",
     "evalue": "File ../data/today_prediction.csv does not exist",
     "output_type": "error",
     "traceback": [
      "\u001b[1;31m---------------------------------------------------------------------------\u001b[0m",
      "\u001b[1;31mIOError\u001b[0m                                   Traceback (most recent call last)",
      "\u001b[1;32m<ipython-input-188-e5e9a2e8d2ed>\u001b[0m in \u001b[0;36m<module>\u001b[1;34m()\u001b[0m\n\u001b[1;32m----> 1\u001b[1;33m \u001b[0mK2\u001b[0m\u001b[1;33m.\u001b[0m\u001b[0mcompare_to_538\u001b[0m\u001b[1;33m(\u001b[0m\u001b[1;33m)\u001b[0m\u001b[1;33m\u001b[0m\u001b[0m\n\u001b[0m",
      "\u001b[1;32mC:\\Users\\Sterling\\Documents\\nbacme2\\Machine_Learning\\kristaps.py\u001b[0m in \u001b[0;36mcompare_to_538\u001b[1;34m(self)\u001b[0m\n\u001b[0;32m    219\u001b[0m         \u001b[1;33m:\u001b[0m\u001b[1;32mreturn\u001b[0m\u001b[1;33m:\u001b[0m\u001b[1;33m\u001b[0m\u001b[0m\n\u001b[0;32m    220\u001b[0m         \"\"\"\n\u001b[1;32m--> 221\u001b[1;33m         \u001b[0mus\u001b[0m \u001b[1;33m=\u001b[0m \u001b[0mpd\u001b[0m\u001b[1;33m.\u001b[0m\u001b[0mread_csv\u001b[0m\u001b[1;33m(\u001b[0m\u001b[1;34m'../data/today_prediction.csv'\u001b[0m\u001b[1;33m)\u001b[0m\u001b[1;33m\u001b[0m\u001b[0m\n\u001b[0m\u001b[0;32m    222\u001b[0m         \u001b[0mfive38\u001b[0m \u001b[1;33m=\u001b[0m \u001b[0mpd\u001b[0m\u001b[1;33m.\u001b[0m\u001b[0mread_csv\u001b[0m\u001b[1;33m(\u001b[0m\u001b[1;34m'../data/pred_538.csv'\u001b[0m\u001b[1;33m)\u001b[0m\u001b[1;33m\u001b[0m\u001b[0m\n\u001b[0;32m    223\u001b[0m         \u001b[1;32mdel\u001b[0m \u001b[0mfive38\u001b[0m\u001b[1;33m[\u001b[0m\u001b[1;34m'date'\u001b[0m\u001b[1;33m]\u001b[0m\u001b[1;33m\u001b[0m\u001b[0m\n",
      "\u001b[1;32mC:\\Users\\Sterling\\Anaconda2\\lib\\site-packages\\pandas\\io\\parsers.pyc\u001b[0m in \u001b[0;36mparser_f\u001b[1;34m(filepath_or_buffer, sep, delimiter, header, names, index_col, usecols, squeeze, prefix, mangle_dupe_cols, dtype, engine, converters, true_values, false_values, skipinitialspace, skiprows, skipfooter, nrows, na_values, keep_default_na, na_filter, verbose, skip_blank_lines, parse_dates, infer_datetime_format, keep_date_col, date_parser, dayfirst, iterator, chunksize, compression, thousands, decimal, lineterminator, quotechar, quoting, escapechar, comment, encoding, dialect, tupleize_cols, error_bad_lines, warn_bad_lines, skip_footer, doublequote, delim_whitespace, as_recarray, compact_ints, use_unsigned, low_memory, buffer_lines, memory_map, float_precision)\u001b[0m\n\u001b[0;32m    560\u001b[0m                     skip_blank_lines=skip_blank_lines)\n\u001b[0;32m    561\u001b[0m \u001b[1;33m\u001b[0m\u001b[0m\n\u001b[1;32m--> 562\u001b[1;33m         \u001b[1;32mreturn\u001b[0m \u001b[0m_read\u001b[0m\u001b[1;33m(\u001b[0m\u001b[0mfilepath_or_buffer\u001b[0m\u001b[1;33m,\u001b[0m \u001b[0mkwds\u001b[0m\u001b[1;33m)\u001b[0m\u001b[1;33m\u001b[0m\u001b[0m\n\u001b[0m\u001b[0;32m    563\u001b[0m \u001b[1;33m\u001b[0m\u001b[0m\n\u001b[0;32m    564\u001b[0m     \u001b[0mparser_f\u001b[0m\u001b[1;33m.\u001b[0m\u001b[0m__name__\u001b[0m \u001b[1;33m=\u001b[0m \u001b[0mname\u001b[0m\u001b[1;33m\u001b[0m\u001b[0m\n",
      "\u001b[1;32mC:\\Users\\Sterling\\Anaconda2\\lib\\site-packages\\pandas\\io\\parsers.pyc\u001b[0m in \u001b[0;36m_read\u001b[1;34m(filepath_or_buffer, kwds)\u001b[0m\n\u001b[0;32m    313\u001b[0m \u001b[1;33m\u001b[0m\u001b[0m\n\u001b[0;32m    314\u001b[0m     \u001b[1;31m# Create the parser.\u001b[0m\u001b[1;33m\u001b[0m\u001b[1;33m\u001b[0m\u001b[0m\n\u001b[1;32m--> 315\u001b[1;33m     \u001b[0mparser\u001b[0m \u001b[1;33m=\u001b[0m \u001b[0mTextFileReader\u001b[0m\u001b[1;33m(\u001b[0m\u001b[0mfilepath_or_buffer\u001b[0m\u001b[1;33m,\u001b[0m \u001b[1;33m**\u001b[0m\u001b[0mkwds\u001b[0m\u001b[1;33m)\u001b[0m\u001b[1;33m\u001b[0m\u001b[0m\n\u001b[0m\u001b[0;32m    316\u001b[0m \u001b[1;33m\u001b[0m\u001b[0m\n\u001b[0;32m    317\u001b[0m     \u001b[1;32mif\u001b[0m \u001b[1;33m(\u001b[0m\u001b[0mnrows\u001b[0m \u001b[1;32mis\u001b[0m \u001b[1;32mnot\u001b[0m \u001b[0mNone\u001b[0m\u001b[1;33m)\u001b[0m \u001b[1;32mand\u001b[0m \u001b[1;33m(\u001b[0m\u001b[0mchunksize\u001b[0m \u001b[1;32mis\u001b[0m \u001b[1;32mnot\u001b[0m \u001b[0mNone\u001b[0m\u001b[1;33m)\u001b[0m\u001b[1;33m:\u001b[0m\u001b[1;33m\u001b[0m\u001b[0m\n",
      "\u001b[1;32mC:\\Users\\Sterling\\Anaconda2\\lib\\site-packages\\pandas\\io\\parsers.pyc\u001b[0m in \u001b[0;36m__init__\u001b[1;34m(self, f, engine, **kwds)\u001b[0m\n\u001b[0;32m    643\u001b[0m             \u001b[0mself\u001b[0m\u001b[1;33m.\u001b[0m\u001b[0moptions\u001b[0m\u001b[1;33m[\u001b[0m\u001b[1;34m'has_index_names'\u001b[0m\u001b[1;33m]\u001b[0m \u001b[1;33m=\u001b[0m \u001b[0mkwds\u001b[0m\u001b[1;33m[\u001b[0m\u001b[1;34m'has_index_names'\u001b[0m\u001b[1;33m]\u001b[0m\u001b[1;33m\u001b[0m\u001b[0m\n\u001b[0;32m    644\u001b[0m \u001b[1;33m\u001b[0m\u001b[0m\n\u001b[1;32m--> 645\u001b[1;33m         \u001b[0mself\u001b[0m\u001b[1;33m.\u001b[0m\u001b[0m_make_engine\u001b[0m\u001b[1;33m(\u001b[0m\u001b[0mself\u001b[0m\u001b[1;33m.\u001b[0m\u001b[0mengine\u001b[0m\u001b[1;33m)\u001b[0m\u001b[1;33m\u001b[0m\u001b[0m\n\u001b[0m\u001b[0;32m    646\u001b[0m \u001b[1;33m\u001b[0m\u001b[0m\n\u001b[0;32m    647\u001b[0m     \u001b[1;32mdef\u001b[0m \u001b[0mclose\u001b[0m\u001b[1;33m(\u001b[0m\u001b[0mself\u001b[0m\u001b[1;33m)\u001b[0m\u001b[1;33m:\u001b[0m\u001b[1;33m\u001b[0m\u001b[0m\n",
      "\u001b[1;32mC:\\Users\\Sterling\\Anaconda2\\lib\\site-packages\\pandas\\io\\parsers.pyc\u001b[0m in \u001b[0;36m_make_engine\u001b[1;34m(self, engine)\u001b[0m\n\u001b[0;32m    797\u001b[0m     \u001b[1;32mdef\u001b[0m \u001b[0m_make_engine\u001b[0m\u001b[1;33m(\u001b[0m\u001b[0mself\u001b[0m\u001b[1;33m,\u001b[0m \u001b[0mengine\u001b[0m\u001b[1;33m=\u001b[0m\u001b[1;34m'c'\u001b[0m\u001b[1;33m)\u001b[0m\u001b[1;33m:\u001b[0m\u001b[1;33m\u001b[0m\u001b[0m\n\u001b[0;32m    798\u001b[0m         \u001b[1;32mif\u001b[0m \u001b[0mengine\u001b[0m \u001b[1;33m==\u001b[0m \u001b[1;34m'c'\u001b[0m\u001b[1;33m:\u001b[0m\u001b[1;33m\u001b[0m\u001b[0m\n\u001b[1;32m--> 799\u001b[1;33m             \u001b[0mself\u001b[0m\u001b[1;33m.\u001b[0m\u001b[0m_engine\u001b[0m \u001b[1;33m=\u001b[0m \u001b[0mCParserWrapper\u001b[0m\u001b[1;33m(\u001b[0m\u001b[0mself\u001b[0m\u001b[1;33m.\u001b[0m\u001b[0mf\u001b[0m\u001b[1;33m,\u001b[0m \u001b[1;33m**\u001b[0m\u001b[0mself\u001b[0m\u001b[1;33m.\u001b[0m\u001b[0moptions\u001b[0m\u001b[1;33m)\u001b[0m\u001b[1;33m\u001b[0m\u001b[0m\n\u001b[0m\u001b[0;32m    800\u001b[0m         \u001b[1;32melse\u001b[0m\u001b[1;33m:\u001b[0m\u001b[1;33m\u001b[0m\u001b[0m\n\u001b[0;32m    801\u001b[0m             \u001b[1;32mif\u001b[0m \u001b[0mengine\u001b[0m \u001b[1;33m==\u001b[0m \u001b[1;34m'python'\u001b[0m\u001b[1;33m:\u001b[0m\u001b[1;33m\u001b[0m\u001b[0m\n",
      "\u001b[1;32mC:\\Users\\Sterling\\Anaconda2\\lib\\site-packages\\pandas\\io\\parsers.pyc\u001b[0m in \u001b[0;36m__init__\u001b[1;34m(self, src, **kwds)\u001b[0m\n\u001b[0;32m   1211\u001b[0m         \u001b[0mkwds\u001b[0m\u001b[1;33m[\u001b[0m\u001b[1;34m'allow_leading_cols'\u001b[0m\u001b[1;33m]\u001b[0m \u001b[1;33m=\u001b[0m \u001b[0mself\u001b[0m\u001b[1;33m.\u001b[0m\u001b[0mindex_col\u001b[0m \u001b[1;32mis\u001b[0m \u001b[1;32mnot\u001b[0m \u001b[0mFalse\u001b[0m\u001b[1;33m\u001b[0m\u001b[0m\n\u001b[0;32m   1212\u001b[0m \u001b[1;33m\u001b[0m\u001b[0m\n\u001b[1;32m-> 1213\u001b[1;33m         \u001b[0mself\u001b[0m\u001b[1;33m.\u001b[0m\u001b[0m_reader\u001b[0m \u001b[1;33m=\u001b[0m \u001b[0m_parser\u001b[0m\u001b[1;33m.\u001b[0m\u001b[0mTextReader\u001b[0m\u001b[1;33m(\u001b[0m\u001b[0msrc\u001b[0m\u001b[1;33m,\u001b[0m \u001b[1;33m**\u001b[0m\u001b[0mkwds\u001b[0m\u001b[1;33m)\u001b[0m\u001b[1;33m\u001b[0m\u001b[0m\n\u001b[0m\u001b[0;32m   1214\u001b[0m \u001b[1;33m\u001b[0m\u001b[0m\n\u001b[0;32m   1215\u001b[0m         \u001b[1;31m# XXX\u001b[0m\u001b[1;33m\u001b[0m\u001b[1;33m\u001b[0m\u001b[0m\n",
      "\u001b[1;32mpandas\\parser.pyx\u001b[0m in \u001b[0;36mpandas.parser.TextReader.__cinit__ (pandas\\parser.c:3427)\u001b[1;34m()\u001b[0m\n",
      "\u001b[1;32mpandas\\parser.pyx\u001b[0m in \u001b[0;36mpandas.parser.TextReader._setup_parser_source (pandas\\parser.c:6861)\u001b[1;34m()\u001b[0m\n",
      "\u001b[1;31mIOError\u001b[0m: File ../data/today_prediction.csv does not exist"
     ]
    }
   ],
   "source": [
    "K2.compare_to_538()"
   ]
  },
  {
   "cell_type": "code",
   "execution_count": 62,
   "metadata": {
    "collapsed": true
   },
   "outputs": [],
   "source": [
    "team_cities = { 'Bucks':'MIL',\n",
    "                'Bulls':'CHI',\n",
    "                'Cavaliers':'CLE',\n",
    "                'Celtics':'BOS',\n",
    "                'Clippers':'LAC',\n",
    "                'Grizzlies':'MEM',\n",
    "                'Hawks':'ATL',\n",
    "                'Heat':'MIA',\n",
    "                'Hornets':'CHA',\n",
    "                'Jazz':'UTA',\n",
    "                'Kings':'SAC',\n",
    "                'Knicks':'NY',\n",
    "                'Lakers':'LAL',\n",
    "                'Magic':'ORL',\n",
    "                'Mavericks':'DAL',\n",
    "                'Nets':'BKN',\n",
    "                'Nuggets':'DEN',\n",
    "                'Pacers':'IND',\n",
    "                'Pelicans':'NO',\n",
    "                'Pistons':'DET',\n",
    "                'Raptors':'TOR',\n",
    "                'Rockets':'HOU',\n",
    "                'Sixers':'PHI',\n",
    "                'Spurs':'SA',\n",
    "                'Suns':'PHX',\n",
    "                'Thunder':'OKC',\n",
    "                'Timberwolves':'MIN',\n",
    "                'Trailblazers':'POR',\n",
    "                'Warriors':'GS',\n",
    "                'Wizards':'WSH',\n",
    "                }"
   ]
  },
  {
   "cell_type": "code",
   "execution_count": 63,
   "metadata": {
    "collapsed": true
   },
   "outputs": [],
   "source": [
    "city_teams = dict(zip(team_cities.values(), team_cities.keys()))"
   ]
  },
  {
   "cell_type": "code",
   "execution_count": 64,
   "metadata": {
    "collapsed": false
   },
   "outputs": [
    {
     "data": {
      "text/plain": [
       "{'ATL': 'Hawks',\n",
       " 'BKN': 'Nets',\n",
       " 'BOS': 'Celtics',\n",
       " 'CHA': 'Hornets',\n",
       " 'CHI': 'Bulls',\n",
       " 'CLE': 'Cavaliers',\n",
       " 'DAL': 'Mavericks',\n",
       " 'DEN': 'Nuggets',\n",
       " 'DET': 'Pistons',\n",
       " 'GS': 'Warriors',\n",
       " 'HOU': 'Rockets',\n",
       " 'IND': 'Pacers',\n",
       " 'LAC': 'Clippers',\n",
       " 'LAL': 'Lakers',\n",
       " 'MEM': 'Grizzlies',\n",
       " 'MIA': 'Heat',\n",
       " 'MIL': 'Bucks',\n",
       " 'MIN': 'Timberwolves',\n",
       " 'NO': 'Pelicans',\n",
       " 'NY': 'Knicks',\n",
       " 'OKC': 'Thunder',\n",
       " 'ORL': 'Magic',\n",
       " 'PHI': 'Sixers',\n",
       " 'PHX': 'Suns',\n",
       " 'POR': 'Trailblazers',\n",
       " 'SA': 'Spurs',\n",
       " 'SAC': 'Kings',\n",
       " 'TOR': 'Raptors',\n",
       " 'UTA': 'Jazz',\n",
       " 'WSH': 'Wizards'}"
      ]
     },
     "execution_count": 64,
     "metadata": {},
     "output_type": "execute_result"
    }
   ],
   "source": [
    "city_teams"
   ]
  },
  {
   "cell_type": "code",
   "execution_count": 87,
   "metadata": {
    "collapsed": false
   },
   "outputs": [
    {
     "name": "stdout",
     "output_type": "stream",
     "text": [
      "fran\n"
     ]
    }
   ],
   "source": [
    "for i in five38[['fran']]:\n",
    "    print i"
   ]
  },
  {
   "cell_type": "code",
   "execution_count": 88,
   "metadata": {
    "collapsed": false
   },
   "outputs": [
    {
     "data": {
      "text/plain": [
       "8"
      ]
     },
     "execution_count": 88,
     "metadata": {},
     "output_type": "execute_result"
    }
   ],
   "source": [
    "len(five38[['fran']])"
   ]
  },
  {
   "cell_type": "code",
   "execution_count": 97,
   "metadata": {
    "collapsed": true
   },
   "outputs": [],
   "source": [
    "t = ['MIL','SAC','ATL']"
   ]
  },
  {
   "cell_type": "code",
   "execution_count": 99,
   "metadata": {
    "collapsed": false
   },
   "outputs": [
    {
     "ename": "SyntaxError",
     "evalue": "invalid syntax (<ipython-input-99-2dcf3b8d8255>, line 1)",
     "output_type": "error",
     "traceback": [
      "\u001b[1;36m  File \u001b[1;32m\"<ipython-input-99-2dcf3b8d8255>\"\u001b[1;36m, line \u001b[1;32m1\u001b[0m\n\u001b[1;33m    city_teams[tt for tt in t]\u001b[0m\n\u001b[1;37m                    ^\u001b[0m\n\u001b[1;31mSyntaxError\u001b[0m\u001b[1;31m:\u001b[0m invalid syntax\n"
     ]
    }
   ],
   "source": [
    "city_teams[]"
   ]
  },
  {
   "cell_type": "code",
   "execution_count": null,
   "metadata": {
    "collapsed": true
   },
   "outputs": [],
   "source": []
  }
 ],
 "metadata": {
  "anaconda-cloud": {},
  "kernelspec": {
   "display_name": "Python [Root]",
   "language": "python",
   "name": "Python [Root]"
  },
  "language_info": {
   "codemirror_mode": {
    "name": "ipython",
    "version": 2
   },
   "file_extension": ".py",
   "mimetype": "text/x-python",
   "name": "python",
   "nbconvert_exporter": "python",
   "pygments_lexer": "ipython2",
   "version": "2.7.12"
  }
 },
 "nbformat": 4,
 "nbformat_minor": 0
}
