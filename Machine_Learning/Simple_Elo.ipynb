{
 "cells": [
  {
   "cell_type": "code",
   "execution_count": 1,
   "metadata": {
    "collapsed": true
   },
   "outputs": [],
   "source": [
    "import numpy as np\n",
    "import pandas as pd\n",
    "from elo import *"
   ]
  },
  {
   "cell_type": "code",
   "execution_count": 2,
   "metadata": {
    "collapsed": false
   },
   "outputs": [],
   "source": [
    "data = pd.read_csv('elo_1946-2015.csv')"
   ]
  },
  {
   "cell_type": "code",
   "execution_count": 3,
   "metadata": {
    "collapsed": false
   },
   "outputs": [
    {
     "name": "stdout",
     "output_type": "stream",
     "text": [
      "['gameorder', 'game_id', 'lg_id', '_iscopy', 'year_id', 'date_game', 'seasongame', 'is_playoffs', 'team_id', 'fran_id', 'pts', 'elo_i', 'elo_n', 'win_equiv', 'opp_id', 'opp_fran', 'opp_pts', 'opp_elo_i', 'opp_elo_n', 'game_location', 'game_result', 'forecast', 'notes']\n"
     ]
    }
   ],
   "source": [
    "print list(data)\n",
    "# The current state of the NBA has 30 franchises. \n",
    "new_data = data[data['year_id']>=1977]\n",
    "#print len(np.unique(new_data['fran_id']))\n",
    "\n",
    "# Get rid of duplicate rows and keep important variables\n",
    "new_data = new_data[new_data['_iscopy'] == 1] [['fran_id','pts','opp_fran','opp_pts','game_location']]"
   ]
  },
  {
   "cell_type": "code",
   "execution_count": 4,
   "metadata": {
    "collapsed": true
   },
   "outputs": [],
   "source": [
    "def train(data):\n",
    "    \"\"\"\n",
    "    \"\"\"\n",
    "    # Initialize score\n",
    "    teams = np.unique(data['fran_id'])\n",
    "    team_elo = dict(zip(teams,[1500]*len(teams)))\n",
    "    for i in range(len(data)):\n",
    "        row = data.iloc[i]\n",
    "        RA = team_elo[row['fran_id']]\n",
    "        RB = team_elo[row['opp_fran']]\n",
    "        team_elo[row['fran_id']], team_elo[row['opp_fran']] = update_elo_ratings(RA,RB,row['pts']>row['opp_pts'],row['pts']<row['opp_pts'])\n",
    "    return team_elo"
   ]
  },
  {
   "cell_type": "code",
   "execution_count": 5,
   "metadata": {
    "collapsed": false
   },
   "outputs": [],
   "source": [
    "new_data\n",
    "team_elo = train(new_data)"
   ]
  },
  {
   "cell_type": "code",
   "execution_count": 6,
   "metadata": {
    "collapsed": false
   },
   "outputs": [
    {
     "name": "stdout",
     "output_type": "stream",
     "text": [
      "['Sixers' 'Timberwolves' 'Knicks' 'Lakers' 'Magic' 'Kings' 'Hornets'\n",
      " 'Nuggets' 'Pistons' 'Bucks' 'Heat' 'Suns' 'Raptors' 'Celtics' 'Nets'\n",
      " 'Jazz' 'Pacers' 'Pelicans' 'Wizards' 'Trailblazers' 'Bulls' 'Mavericks'\n",
      " 'Thunder' 'Hawks' 'Grizzlies' 'Rockets' 'Clippers' 'Cavaliers' 'Spurs'\n",
      " 'Warriors']\n"
     ]
    }
   ],
   "source": [
    "indices = np.argsort(team_elo.values())\n",
    "print np.array(team_elo.keys())[indices]"
   ]
  },
  {
   "cell_type": "code",
   "execution_count": null,
   "metadata": {
    "collapsed": true
   },
   "outputs": [],
   "source": []
  }
 ],
 "metadata": {
  "kernelspec": {
   "display_name": "Python 2",
   "language": "python",
   "name": "python2"
  },
  "language_info": {
   "codemirror_mode": {
    "name": "ipython",
    "version": 2
   },
   "file_extension": ".py",
   "mimetype": "text/x-python",
   "name": "python",
   "nbconvert_exporter": "python",
   "pygments_lexer": "ipython2",
   "version": "2.7.12"
  }
 },
 "nbformat": 4,
 "nbformat_minor": 0
}
